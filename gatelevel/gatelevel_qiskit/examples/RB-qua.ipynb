{
 "cells": [
  {
   "cell_type": "code",
   "execution_count": 1,
   "metadata": {},
   "outputs": [
    {
     "name": "stdout",
     "output_type": "stream",
     "text": [
      "/home/lior/git/theory\n"
     ]
    }
   ],
   "source": [
    "%cd ../..\n",
    "%load_ext autoreload\n",
    "%autoreload 2"
   ]
  },
  {
   "cell_type": "code",
   "execution_count": 2,
   "metadata": {},
   "outputs": [],
   "source": [
    "#Import general libraries (needed for functions)`\n",
    "import numpy as np\n",
    "import matplotlib.pyplot as plt\n",
    "from IPython import display\n",
    "from gatelevel_qiskit.waveform_comparator import WaveformComparator\n",
    "\n",
    "#Import the RB Functions\n",
    "import qiskit.ignis.verification.randomized_benchmarking as rb\n",
    "from qiskit.pulse import Schedule, Play, Gaussian, DriveChannel, ShiftPhase, Waveform, ControlChannel, MeasureChannel, AcquireChannel\n",
    "from qiskit.circuit import Gate\n",
    "#Import Qiskit classes \n",
    "import qiskit\n",
    "from pprint import pprint\n",
    "from deepdiff import DeepDiff\n",
    "\n",
    "from gatelevel_qiskit.circuit_to_qua import CircuitQuaTransformer\n",
    "from gatelevel_qiskit.lib import wfs_no_samples, summary_of_inst, get_min_time\n",
    "from gatelevel_qiskit.simple_backend import simple_backend\n",
    "from rb_config import config_base\n"
   ]
  },
  {
   "cell_type": "code",
   "execution_count": 3,
   "metadata": {},
   "outputs": [],
   "source": [
    "# generate RB 1QB\n",
    "c1 = qiskit.circuit.quantumcircuit.QuantumCircuit(1)\n",
    "c1.x(0)\n",
    "rb_circs1, xdata = rb.randomized_benchmarking_seq(length_vector=[1,2,3,4,5], nseeds=3, rb_pattern=[[0]])\n",
    "circ = rb_circs1[0][4]"
   ]
  },
  {
   "cell_type": "code",
   "execution_count": 4,
   "metadata": {},
   "outputs": [
    {
     "data": {
      "text/html": [
       "<pre style=\"word-wrap: normal;white-space: pre;background: #fff0;line-height: 1.1;font-family: &quot;Courier New&quot;,Courier,monospace\">      ┌───┐┌───┐┌───┐ ░ ┌─────┐┌───┐ ░ ┌───┐┌───┐┌───┐ ░ ┌───┐┌───┐┌───┐┌───┐»\n",
       "qr_0: ┤ Y ├┤ H ├┤ S ├─░─┤ SDG ├┤ H ├─░─┤ Y ├┤ H ├┤ S ├─░─┤ Z ├┤ S ├┤ H ├┤ S ├»\n",
       "      └───┘└───┘└───┘ ░ └─────┘└───┘ ░ └───┘└───┘└───┘ ░ └───┘└───┘└───┘└───┘»\n",
       "cr: 1/═══════════════════════════════════════════════════════════════════════»\n",
       "                                                                             »\n",
       "«       ░ ┌───┐┌───┐ ░ ┌───┐┌───┐┌─┐\n",
       "«qr_0: ─░─┤ Z ├┤ H ├─░─┤ H ├┤ S ├┤M├\n",
       "«       ░ └───┘└───┘ ░ └───┘└───┘└╥┘\n",
       "«cr: 1/═══════════════════════════╩═\n",
       "«                                 0 </pre>"
      ],
      "text/plain": [
       "      ┌───┐┌───┐┌───┐ ░ ┌─────┐┌───┐ ░ ┌───┐┌───┐┌───┐ ░ ┌───┐┌───┐┌───┐┌───┐»\n",
       "qr_0: ┤ Y ├┤ H ├┤ S ├─░─┤ SDG ├┤ H ├─░─┤ Y ├┤ H ├┤ S ├─░─┤ Z ├┤ S ├┤ H ├┤ S ├»\n",
       "      └───┘└───┘└───┘ ░ └─────┘└───┘ ░ └───┘└───┘└───┘ ░ └───┘└───┘└───┘└───┘»\n",
       "cr: 1/═══════════════════════════════════════════════════════════════════════»\n",
       "                                                                             »\n",
       "«       ░ ┌───┐┌───┐ ░ ┌───┐┌───┐┌─┐\n",
       "«qr_0: ─░─┤ Z ├┤ H ├─░─┤ H ├┤ S ├┤M├\n",
       "«       ░ └───┘└───┘ ░ └───┘└───┘└╥┘\n",
       "«cr: 1/═══════════════════════════╩═\n",
       "«                                 0 "
      ]
     },
     "execution_count": 4,
     "metadata": {},
     "output_type": "execute_result"
    }
   ],
   "source": [
    "circ.draw()"
   ]
  },
  {
   "cell_type": "code",
   "execution_count": 5,
   "metadata": {},
   "outputs": [],
   "source": [
    "circ_qua = CircuitQuaTransformer(pulse_backend=simple_backend,\n",
    "                                config_base=config_base,\n",
    "                                circuit=circ)"
   ]
  },
  {
   "cell_type": "code",
   "execution_count": 6,
   "metadata": {},
   "outputs": [
    {
     "name": "stdout",
     "output_type": "stream",
     "text": [
      "with program() as prog:\n",
      "    I = [None] * 1\n",
      "    I[0] = declare(fixed)\n",
      "    align(*['d0', 'm0'])\n",
      "    play('wf_Y', 'd0')\n",
      "    frame_rotation(1.5707963267948966, 'd0')\n",
      "    play('wf_X90', 'd0')\n",
      "    frame_rotation(1.5707963267948966, 'd0')\n",
      "    frame_rotation(1.5707963267948966, 'd0')\n",
      "    frame_rotation(-1.5707963267948966, 'd0')\n",
      "    frame_rotation(1.5707963267948966, 'd0')\n",
      "    play('wf_X90', 'd0')\n",
      "    frame_rotation(1.5707963267948966, 'd0')\n",
      "    play('wf_Y', 'd0')\n",
      "    frame_rotation(1.5707963267948966, 'd0')\n",
      "    play('wf_X90', 'd0')\n",
      "    frame_rotation(1.5707963267948966, 'd0')\n",
      "    frame_rotation(1.5707963267948966, 'd0')\n",
      "    frame_rotation(3.141592653589793, 'd0')\n",
      "    frame_rotation(1.5707963267948966, 'd0')\n",
      "    frame_rotation(1.5707963267948966, 'd0')\n",
      "    play('wf_X90', 'd0')\n",
      "    frame_rotation(1.5707963267948966, 'd0')\n",
      "    frame_rotation(1.5707963267948966, 'd0')\n",
      "    frame_rotation(3.141592653589793, 'd0')\n",
      "    frame_rotation(1.5707963267948966, 'd0')\n",
      "    play('wf_X90', 'd0')\n",
      "    frame_rotation(1.5707963267948966, 'd0')\n",
      "    frame_rotation(1.5707963267948966, 'd0')\n",
      "    play('wf_X90', 'd0')\n",
      "    frame_rotation(1.5707963267948966, 'd0')\n",
      "    frame_rotation(1.5707963267948966, 'd0')\n",
      "    wait(40,'m0')\n",
      "    measure('test_pulse_1', 'm0', None, ('integw', I[0]))\n",
      "    save(I[0], 'I0')\n",
      "\n"
     ]
    }
   ],
   "source": [
    "print(circ_qua.to_qua())"
   ]
  },
  {
   "cell_type": "code",
   "execution_count": 7,
   "metadata": {},
   "outputs": [
    {
     "name": "stdout",
     "output_type": "stream",
     "text": [
      "2020-11-11 15:22:19,103 - qm - INFO - Performing health check\n",
      "2020-11-11 15:22:19,250 - qm - INFO - Health check passed\n",
      "2020-11-11 15:22:19,357 - qm - WARNING - Client's version (0.5.157) does not match the server version (0.5.140).\n",
      "2020-11-11 15:22:19,487 - qm - INFO - Flags: \n",
      "2020-11-11 15:22:19,487 - qm - INFO - Executing high level program\n",
      "1605100939468\n",
      "{}\n"
     ]
    }
   ],
   "source": [
    "from qm.QuantumMachinesManager import QuantumMachinesManager\n",
    "from qm import SimulationConfig\n",
    "from qm.qua import *\n",
    "\n",
    "qmm = QuantumMachinesManager('52.29.8.241')\n",
    "qm = qmm.open_qm(circ_qua.config)\n",
    "\n",
    "exec(circ_qua.to_qua())\n",
    "job = qm.simulate(prog, SimulationConfig(500, include_analog_waveforms=True))\n",
    "print(job.id())\n",
    "wfs_sim = job.simulated_analog_waveforms()['controllers']['con1']['ports']\n",
    "\n",
    "wfs_circ = circ_qua.to_waveforms(get_min_time(wfs_sim))\n",
    "\n",
    "comp = WaveformComparator(wfs_sim, wfs_circ)\n",
    "pprint(comp)\n",
    "assert len(comp.diff) == 0"
   ]
  }
 ],
 "metadata": {
  "kernelspec": {
   "display_name": "Python 3",
   "language": "python",
   "name": "python3"
  },
  "language_info": {
   "codemirror_mode": {
    "name": "ipython",
    "version": 3
   },
   "file_extension": ".py",
   "mimetype": "text/x-python",
   "name": "python",
   "nbconvert_exporter": "python",
   "pygments_lexer": "ipython3",
   "version": "3.8.3"
  }
 },
 "nbformat": 4,
 "nbformat_minor": 4
}
