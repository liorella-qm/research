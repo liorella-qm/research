{
 "cells": [
  {
   "cell_type": "code",
   "execution_count": 1,
   "metadata": {},
   "outputs": [
    {
     "name": "stderr",
     "output_type": "stream",
     "text": [
      "/Users/lior/git/scqubits-examples/.conda/lib/python3.8/site-packages/qutip/__init__.py:66: UserWarning: The new version of Cython, (>= 3.0.0) is not supported.\n",
      "  warnings.warn(\n"
     ]
    }
   ],
   "source": [
    "import qutip as qp\n",
    "import numpy as np"
   ]
  },
  {
   "cell_type": "markdown",
   "metadata": {},
   "source": [
    "What is the mutual information of 2 subsystems of a GHZ state?\n",
    "\n",
    "The defnition is $I_{12} = S_{1} + S_2 - S_{12}$ where $S$ is the VN entropy. \n",
    "\n",
    "If the two systems are entangled, then $S_{12} < S_1 + S_2$. This is because there are correlations between the two.\n",
    "\n",
    "We show below that for a single GHZ state, we have $I_{12} = 2\\log2$ for all subsystems, even ones that are very far apart. If, however, we make a product of 2 GHZ copies, then if we look at separated regions, $I_{12} = 0$."
   ]
  },
  {
   "cell_type": "markdown",
   "metadata": {},
   "source": [
    "Case 1: Single big GHZ state"
   ]
  },
  {
   "cell_type": "code",
   "execution_count": 3,
   "metadata": {},
   "outputs": [
    {
     "data": {
      "text/plain": [
       "0.6931471805599454"
      ]
     },
     "execution_count": 3,
     "metadata": {},
     "output_type": "execute_result"
    }
   ],
   "source": [
    "ghz = qp.ket2dm(qp.ghz_state(6))\n",
    "I12 = qp.entropy_vn(ghz.ptrace(0)) + qp.entropy_vn(ghz.ptrace(5)) - qp.entropy_vn(ghz.ptrace([0, 5]))\n",
    "I12"
   ]
  },
  {
   "cell_type": "markdown",
   "metadata": {},
   "source": [
    "Case 2: A product of two GHZ states"
   ]
  },
  {
   "cell_type": "code",
   "execution_count": 4,
   "metadata": {},
   "outputs": [
    {
     "data": {
      "text/plain": [
       "4.440892098500626e-16"
      ]
     },
     "execution_count": 4,
     "metadata": {},
     "output_type": "execute_result"
    }
   ],
   "source": [
    "ghz_A = qp.ket2dm(qp.ghz_state(3))\n",
    "ghz_B = qp.ket2dm(qp.ghz_state(3))\n",
    "ghz_AB = qp.tensor(ghz_A, ghz_B)\n",
    "I12 = qp.entropy_vn(ghz_AB.ptrace(0)) + qp.entropy_vn(ghz_AB.ptrace(5)) - qp.entropy_vn(ghz_AB.ptrace([0, 5]))\n",
    "I12\n"
   ]
  }
 ],
 "metadata": {
  "kernelspec": {
   "display_name": "qw-qm",
   "language": "python",
   "name": "python3"
  },
  "language_info": {
   "codemirror_mode": {
    "name": "ipython",
    "version": 3
   },
   "file_extension": ".py",
   "mimetype": "text/x-python",
   "name": "python",
   "nbconvert_exporter": "python",
   "pygments_lexer": "ipython3",
   "version": "3.8.18"
  }
 },
 "nbformat": 4,
 "nbformat_minor": 2
}
