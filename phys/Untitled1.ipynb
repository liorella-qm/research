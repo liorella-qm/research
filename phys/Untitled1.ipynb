{
 "cells": [
  {
   "cell_type": "code",
   "execution_count": 4,
   "metadata": {},
   "outputs": [
    {
     "data": {
      "application/vnd.jupyter.widget-view+json": {
       "model_id": "dbd550bf972d4696a1d462c3737a541c",
       "version_major": 2,
       "version_minor": 0
      },
      "text/plain": [
       "Canvas(toolbar=Toolbar(toolitems=[('Home', 'Reset original view', 'home', 'home'), ('Back', 'Back to previous …"
      ]
     },
     "metadata": {},
     "output_type": "display_data"
    }
   ],
   "source": [
    "import itertools\n",
    "\n",
    "import numpy as np\n",
    "import matplotlib.pyplot as plt\n",
    "import matplotlib.animation as animation\n",
    "\n",
    "\n",
    "def data_gen():\n",
    "    for cnt in itertools.count():\n",
    "        t = cnt / 10\n",
    "        yield t, np.sin(2*np.pi*t) * np.exp(-t/10.)\n",
    "\n",
    "\n",
    "def init():\n",
    "    ax.set_ylim(-1.1, 1.1)\n",
    "    ax.set_xlim(0, 10)\n",
    "    del xdata[:]\n",
    "    del ydata[:]\n",
    "    line.set_data(xdata, ydata)\n",
    "    return line,\n",
    "\n",
    "fig, ax = plt.subplots()\n",
    "line, = ax.plot([], [], lw=2)\n",
    "ax.grid()\n",
    "xdata, ydata = [], []\n",
    "\n",
    "\n",
    "def run(data):\n",
    "    # update the data\n",
    "    t, y = data\n",
    "    xdata.append(t)\n",
    "    ydata.append(y)\n",
    "    xmin, xmax = ax.get_xlim()\n",
    "\n",
    "    if t >= xmax:\n",
    "        ax.set_xlim(xmin, 2*xmax)\n",
    "        ax.figure.canvas.draw()\n",
    "    line.set_data(xdata, ydata)\n",
    "\n",
    "    return line,\n",
    "\n",
    "ani = animation.FuncAnimation(fig, run, data_gen, interval=10, init_func=init)\n",
    "plt.show()"
   ]
  },
  {
   "cell_type": "code",
   "execution_count": 3,
   "metadata": {},
   "outputs": [
    {
     "data": {
      "image/png": "[encoded data removed]",
      "text/plain": [
       "<Figure size 432x288 with 1 Axes>"
      ]
     },
     "metadata": {
      "needs_background": "light"
     },
     "output_type": "display_data"
    }
   ],
   "source": [
    "import numpy as np\n",
    "import matplotlib\n",
    "matplotlib.use(\"Agg\")\n",
    "import matplotlib.pyplot as plt\n",
    "from matplotlib.animation import FFMpegWriter\n",
    "\n",
    "# Fixing random state for reproducibility\n",
    "np.random.seed(19680801)\n",
    "\n",
    "\n",
    "metadata = dict(title='Movie Test', artist='Matplotlib',\n",
    "                comment='Movie support!')\n",
    "writer = FFMpegWriter(fps=15, metadata=metadata)\n",
    "\n",
    "fig = plt.figure()\n",
    "l, = plt.plot([], [], 'k-o')\n",
    "\n",
    "plt.xlim(-5, 5)\n",
    "plt.ylim(-5, 5)\n",
    "\n",
    "x0, y0 = 0, 0\n",
    "\n",
    "with writer.saving(fig, \"writer_test.mp4\", 100):\n",
    "    for i in range(100):\n",
    "        x0 += 0.1 * np.random.randn()\n",
    "        y0 += 0.1 * np.random.randn()\n",
    "        l.set_data(x0, y0)\n",
    "        writer.grab_frame()"
   ]
  },
  {
   "cell_type": "code",
   "execution_count": 15,
   "metadata": {
    "collapsed": true,
    "jupyter": {
     "outputs_hidden": true
    }
   },
   "outputs": [
    {
     "data": {
      "text/plain": [
       "\u001b[0;31mInit signature:\u001b[0m \u001b[0mmpatches\u001b[0m\u001b[0;34m.\u001b[0m\u001b[0mCircle\u001b[0m\u001b[0;34m(\u001b[0m\u001b[0mxy\u001b[0m\u001b[0;34m,\u001b[0m \u001b[0mradius\u001b[0m\u001b[0;34m=\u001b[0m\u001b[0;36m5\u001b[0m\u001b[0;34m,\u001b[0m \u001b[0;34m**\u001b[0m\u001b[0mkwargs\u001b[0m\u001b[0;34m)\u001b[0m\u001b[0;34m\u001b[0m\u001b[0;34m\u001b[0m\u001b[0m\n",
       "\u001b[0;31mDocstring:\u001b[0m      A circle patch.\n",
       "\u001b[0;31mInit docstring:\u001b[0m\n",
       "Create a true circle at center *xy* = (*x*, *y*) with given *radius*.\n",
       "\n",
       "Unlike `CirclePolygon` which is a polygonal approximation, this uses\n",
       "Bezier splines and is much closer to a scale-free circle.\n",
       "\n",
       "Valid keyword arguments are:\n",
       "\n",
       "Properties:\n",
       "    agg_filter: a filter function, which takes a (m, n, 3) float array and a dpi value, and returns a (m, n, 3) array\n",
       "    alpha: float or None\n",
       "    animated: bool\n",
       "    antialiased or aa: unknown\n",
       "    capstyle: {'butt', 'round', 'projecting'}\n",
       "    clip_box: `.Bbox`\n",
       "    clip_on: bool\n",
       "    clip_path: Patch or (Path, Transform) or None\n",
       "    color: color\n",
       "    contains: unknown\n",
       "    edgecolor or ec: color or None or 'auto'\n",
       "    facecolor or fc: color or None\n",
       "    figure: `.Figure`\n",
       "    fill: bool\n",
       "    gid: str\n",
       "    hatch: {'/', '\\\\', '|', '-', '+', 'x', 'o', 'O', '.', '*'}\n",
       "    in_layout: bool\n",
       "    joinstyle: {'miter', 'round', 'bevel'}\n",
       "    label: object\n",
       "    linestyle or ls: {'-', '--', '-.', ':', '', (offset, on-off-seq), ...}\n",
       "    linewidth or lw: float or None\n",
       "    path_effects: `.AbstractPathEffect`\n",
       "    picker: None or bool or callable\n",
       "    rasterized: bool or None\n",
       "    sketch_params: (scale: float, length: float, randomness: float)\n",
       "    snap: bool or None\n",
       "    transform: `.Transform`\n",
       "    url: str\n",
       "    visible: bool\n",
       "    zorder: float\n",
       "\u001b[0;31mFile:\u001b[0m           ~/miniconda3/lib/python3.8/site-packages/matplotlib/patches.py\n",
       "\u001b[0;31mType:\u001b[0m           type\n",
       "\u001b[0;31mSubclasses:\u001b[0m     \n"
      ]
     },
     "metadata": {},
     "output_type": "display_data"
    }
   ],
   "source": [
    "?mpatches.Circle"
   ]
  },
  {
   "cell_type": "code",
   "execution_count": 23,
   "metadata": {},
   "outputs": [
    {
     "data": {
      "text/plain": [
       "<matplotlib.patches.FancyArrow at 0x7fd10cc16d60>"
      ]
     },
     "execution_count": 23,
     "metadata": {},
     "output_type": "execute_result"
    },
    {
     "data": {
      "image/png": "[encoded data removed]",
      "text/plain": [
       "<Figure size 432x288 with 1 Axes>"
      ]
     },
     "metadata": {
      "needs_background": "light"
     },
     "output_type": "display_data"
    }
   ],
   "source": [
    "ax = plt.axes()\n",
    "ax.set_aspect('equal')\n",
    "plt.xlim((-2, 2))\n",
    "import matplotlib.patches as mpatches\n",
    "p = mpatches.Circle((0, 0), 1, fc=None)\n",
    "ax.add_patch(p)\n",
    "global ar\n",
    "ar = plt.arrow(0,0, 1, 0, length_includes_head=True, width=0.1, head_length=0.5)\n",
    "\n",
    "with writer.saving(fig, \"writer_test.mp4\", 100):\n",
    "    for i in range(100):\n",
    "        x0 += 0.1 * np.random.randn()\n",
    "        y0 += 0.1 * np.random.randn()\n",
    "        ax.patches.b\n",
    "        writer.grab_frame()\n"
   ]
  },
  {
   "cell_type": "markdown",
   "metadata": {},
   "source": [
    "$d\\vec{S}/dt = \\vec{B}(t) \\times \\vec{S}$\n",
    "\n",
    "$d\\vec{S}/dt = (B_0\\hat{z} + B_1\\hat{x}) \\times \\vec{S}) = B_1\\hat{z}(S_y) + \\hat{x}()+ $"
   ]
  },
  {
   "cell_type": "markdown",
   "metadata": {},
   "source": [
    "what is thea effect of coherent spurs?\n",
    "\n",
    "$H = \\hbar\\omega_{01} \\sigma_z + F(t)\\sigma_{x}$\n",
    "\n",
    "$$F(t) = v_d\\cos(\\omega_{01}t) + v_s\\cos((\\omega_{01} - \\Delta)t)$$\n",
    "\n",
    "If we have a tone detuned by $\\Delta$ from $f_{01}$ with voltage $v_s$ from the drive, tone, what is its effect?\n",
    "define: $\\Omega_s = gv_s$, where $g$ is the coupling to the drive (in GHz/voltage)\n",
    "\n",
    "\n",
    "\n",
    "let's say $v_d = 0$\n",
    "\n",
    "in the rotating frame at $\\omega_{01} - \\Delta$:\n",
    "\n",
    "$$H = \\hbar\\Delta \\sigma_z + v_s\\sigma_{x}$$\n",
    "\n",
    "The equation for the state transitions is:\n",
    "\n",
    "$$\n",
    "P_{1} = \\frac{\\Omega_s}{\\sqrt{\\Omega_s^2 + \\Delta^2}}\\cos^2(\\sqrt{\\Omega_s^2 + \\Delta^2}t)\n",
    "$$\n",
    "\n",
    "thus the maximum infidelity is\n",
    "\n",
    "$$p = \\frac{\\Omega_s}{2\\sqrt{\\Omega_s^2 + \\Delta^2}}$$\n",
    "\n",
    "we want to replate this to S. Let's define $r = v_s/v_d$\n",
    "\n",
    "so \n",
    "\n",
    "$$p = \\frac{gv_s}{\\sqrt{g^2v_s^2 + \\Delta^2}}$$\n",
    "\n"
   ]
  },
  {
   "cell_type": "code",
   "execution_count": 41,
   "metadata": {},
   "outputs": [
    {
     "data": {
      "image/png": "[encoded data removed]",
      "text/plain": [
       "<Figure size 432x288 with 1 Axes>"
      ]
     },
     "metadata": {
      "needs_background": "light"
     },
     "output_type": "display_data"
    }
   ],
   "source": [
    "fig, axes = plt.subplots(1, 1)\n",
    "x, y = np.meshgrid(np.linspace(-1, 1, 200), np.logspace(-1, -4, 200))\n",
    "infidel = np.log10(y/np.sqrt(x**2 + y**2))\n",
    "\n",
    "cnt = axes.contour\n",
    "(x, y, infidel)\n",
    "plt.clabel(cnt, inline=1)\n",
    "axes.set_yscale(\"log\")"
   ]
  },
  {
   "cell_type": "code",
   "execution_count": 43,
   "metadata": {},
   "outputs": [
    {
     "data": {
      "text/plain": [
       "[<matplotlib.lines.Line2D at 0x7fd1087f54f0>]"
      ]
     },
     "execution_count": 43,
     "metadata": {},
     "output_type": "execute_result"
    },
    {
     "data": {
      "image/png": "[encoded data removed]",
      "text/plain": [
       "<Figure size 432x288 with 1 Axes>"
      ]
     },
     "metadata": {
      "needs_background": "light"
     },
     "output_type": "display_data"
    }
   ],
   "source": [
    "T1 = 10\n",
    "t = np.linspace(0, 20, 100)\n",
    "fbase = np.exp(-t/T1)\n",
    "f1 = fbase + (1-fbase) * 0.1\n",
    "f2 = 1 - np.exp(-t/T1)\n",
    "plt.plot(t, f1)\n",
    "plt.plot(t, f2)"
   ]
  },
  {
   "cell_type": "code",
   "execution_count": 5,
   "metadata": {},
   "outputs": [],
   "source": [
    "import qutip as qt\n",
    "import numpy as np\n",
    "import matplotlib.pyplot as plt"
   ]
  },
  {
   "cell_type": "code",
   "execution_count": 54,
   "metadata": {
    "collapsed": true,
    "jupyter": {
     "outputs_hidden": true
    }
   },
   "outputs": [
    {
     "data": {
      "text/plain": [
       "\u001b[0;31mSignature:\u001b[0m\n",
       "\u001b[0mqt\u001b[0m\u001b[0;34m.\u001b[0m\u001b[0msesolve\u001b[0m\u001b[0;34m(\u001b[0m\u001b[0;34m\u001b[0m\n",
       "\u001b[0;34m\u001b[0m    \u001b[0mH\u001b[0m\u001b[0;34m,\u001b[0m\u001b[0;34m\u001b[0m\n",
       "\u001b[0;34m\u001b[0m    \u001b[0mpsi0\u001b[0m\u001b[0;34m,\u001b[0m\u001b[0;34m\u001b[0m\n",
       "\u001b[0;34m\u001b[0m    \u001b[0mtlist\u001b[0m\u001b[0;34m,\u001b[0m\u001b[0;34m\u001b[0m\n",
       "\u001b[0;34m\u001b[0m    \u001b[0me_ops\u001b[0m\u001b[0;34m=\u001b[0m\u001b[0;32mNone\u001b[0m\u001b[0;34m,\u001b[0m\u001b[0;34m\u001b[0m\n",
       "\u001b[0;34m\u001b[0m    \u001b[0margs\u001b[0m\u001b[0;34m=\u001b[0m\u001b[0;32mNone\u001b[0m\u001b[0;34m,\u001b[0m\u001b[0;34m\u001b[0m\n",
       "\u001b[0;34m\u001b[0m    \u001b[0moptions\u001b[0m\u001b[0;34m=\u001b[0m\u001b[0;32mNone\u001b[0m\u001b[0;34m,\u001b[0m\u001b[0;34m\u001b[0m\n",
       "\u001b[0;34m\u001b[0m    \u001b[0mprogress_bar\u001b[0m\u001b[0;34m=\u001b[0m\u001b[0;32mNone\u001b[0m\u001b[0;34m,\u001b[0m\u001b[0;34m\u001b[0m\n",
       "\u001b[0;34m\u001b[0m    \u001b[0m_safe_mode\u001b[0m\u001b[0;34m=\u001b[0m\u001b[0;32mTrue\u001b[0m\u001b[0;34m,\u001b[0m\u001b[0;34m\u001b[0m\n",
       "\u001b[0;34m\u001b[0m\u001b[0;34m)\u001b[0m\u001b[0;34m\u001b[0m\u001b[0;34m\u001b[0m\u001b[0m\n",
       "\u001b[0;31mDocstring:\u001b[0m\n",
       "Schrodinger equation evolution of a state vector or unitary matrix\n",
       "for a given Hamiltonian.\n",
       "\n",
       "Evolve the state vector (`psi0`) using a given\n",
       "Hamiltonian (`H`), by integrating the set of ordinary differential\n",
       "equations that define the system. Alternatively evolve a unitary matrix in\n",
       "solving the Schrodinger operator equation.\n",
       "\n",
       "The output is either the state vector or unitary matrix at arbitrary points\n",
       "in time (`tlist`), or the expectation values of the supplied operators\n",
       "(`e_ops`). If e_ops is a callback function, it is invoked for each\n",
       "time in `tlist` with time and the state as arguments, and the function\n",
       "does not use any return values. e_ops cannot be used in conjunction\n",
       "with solving the Schrodinger operator equation\n",
       "\n",
       "Parameters\n",
       "----------\n",
       "\n",
       "H : :class:`qutip.qobj`, :class:`qutip.qobjevo`, *list*, *callable*\n",
       "    system Hamiltonian as a Qobj, list of Qobj and coefficient, QobjEvo,\n",
       "    or a callback function for time-dependent Hamiltonians.\n",
       "    list format and options can be found in QobjEvo's description.\n",
       "\n",
       "psi0 : :class:`qutip.qobj`\n",
       "    initial state vector (ket)\n",
       "    or initial unitary operator `psi0 = U`\n",
       "\n",
       "tlist : *list* / *array*\n",
       "    list of times for :math:`t`.\n",
       "\n",
       "e_ops : None / list of :class:`qutip.qobj` / callback function\n",
       "    single operator or list of operators for which to evaluate\n",
       "    expectation values.\n",
       "    For list operator evolution, the overlapse is computed:\n",
       "        tr(e_ops[i].dag()*op(t))\n",
       "\n",
       "args : None / *dictionary*\n",
       "    dictionary of parameters for time-dependent Hamiltonians\n",
       "\n",
       "options : None / :class:`qutip.Qdeoptions`\n",
       "    with options for the ODE solver.\n",
       "\n",
       "progress_bar : None / BaseProgressBar\n",
       "    Optional instance of BaseProgressBar, or a subclass thereof, for\n",
       "    showing the progress of the simulation.\n",
       "\n",
       "Returns\n",
       "-------\n",
       "\n",
       "output: :class:`qutip.solver`\n",
       "\n",
       "    An instance of the class :class:`qutip.solver`, which contains either\n",
       "    an *array* of expectation values for the times specified by `tlist`, or\n",
       "    an *array* or state vectors corresponding to the\n",
       "    times in `tlist` [if `e_ops` is an empty list], or\n",
       "    nothing if a callback function was given inplace of operators for\n",
       "    which to calculate the expectation values.\n",
       "\u001b[0;31mFile:\u001b[0m      ~/miniconda3/lib/python3.8/site-packages/qutip/sesolve.py\n",
       "\u001b[0;31mType:\u001b[0m      function\n"
      ]
     },
     "metadata": {},
     "output_type": "display_data"
    }
   ],
   "source": [
    "?qt.sesolve"
   ]
  },
  {
   "cell_type": "code",
   "execution_count": 3,
   "metadata": {},
   "outputs": [],
   "source": [
    "%matplotlib widget"
   ]
  },
  {
   "cell_type": "code",
   "execution_count": 6,
   "metadata": {},
   "outputs": [
    {
     "data": {
      "application/vnd.jupyter.widget-view+json": {
       "model_id": "7ae1fb4651044810ac4c4124ce8cac55",
       "version_major": 2,
       "version_minor": 0
      },
      "text/plain": [
       "Canvas(toolbar=Toolbar(toolitems=[('Home', 'Reset original view', 'home', 'home'), ('Back', 'Back to previous …"
      ]
     },
     "metadata": {},
     "output_type": "display_data"
    },
    {
     "data": {
      "text/plain": [
       "[<matplotlib.lines.Line2D at 0x7f7765f041c0>]"
      ]
     },
     "execution_count": 6,
     "metadata": {},
     "output_type": "execute_result"
    }
   ],
   "source": [
    "H0 = 0.5 * 2 * np.pi * qt.sigmaz()\n",
    "H1 = 0.5 * qt.sigmax()\n",
    "\n",
    "t = np.linspace(0, 40, 10000)\n",
    "drive = 2 * np.pi * 0.1 * np.cos(2 * np.pi * t)\n",
    "psi0 = qt.ket([0])\n",
    "res = qt.sesolve([H0, [H1, drive]], psi0, t, e_ops = [0.5 * qt.sigmax(), 0.5 * qt.sigmay(), 0.5 * qt.sigmaz()])\n",
    "\n",
    "fig, axes = plt.subplots(3, 1, figsize=[10, 10], sharex='all')\n",
    "for i in range(3):\n",
    "    axes[i].plot(res.times, res.expect[i])\n",
    "axes[0].plot(t, 0.5 * np.cos(2 * np.pi * t))"
   ]
  },
  {
   "cell_type": "code",
   "execution_count": 22,
   "metadata": {},
   "outputs": [
    {
     "data": {
      "application/vnd.jupyter.widget-view+json": {
       "model_id": "db868181ea9a4ab6944868d53a8972f2",
       "version_major": 2,
       "version_minor": 0
      },
      "text/plain": [
       "Canvas(toolbar=Toolbar(toolitems=[('Home', 'Reset original view', 'home', 'home'), ('Back', 'Back to previous …"
      ]
     },
     "metadata": {},
     "output_type": "display_data"
    },
    {
     "data": {
      "text/plain": [
       "[<matplotlib.lines.Line2D at 0x7f775bcc3400>]"
      ]
     },
     "execution_count": 22,
     "metadata": {},
     "output_type": "execute_result"
    }
   ],
   "source": [
    "H0 = 0.5 * 2 * np.pi * qt.sigmaz()\n",
    "H1 = 0.5 * qt.sigmax()\n",
    "\n",
    "t = np.linspace(0, 40, 10000)\n",
    "drive = 2 * np.pi * 0.1 * np.cos(2 * np.pi * 1.05 * t)\n",
    "psi0 = qt.ket([1]) + qt.ket([0])\n",
    "res = qt.sesolve([H0, [H1, drive]], psi0, t, e_ops = [0.5 * qt.sigmax(), 0.5 * qt.sigmay(), 0.5 * qt.sigmaz()])\n",
    "\n",
    "fig, axes = plt.subplots(3, 1, figsize=[10, 10], sharex='all')\n",
    "for i in range(3):\n",
    "    axes[i].plot(res.times, res.expect[i])\n",
    "axes[0].plot(t, 0.5 * np.cos(2 * np.pi * t))"
   ]
  },
  {
   "cell_type": "code",
   "execution_count": 34,
   "metadata": {},
   "outputs": [],
   "source": []
  },
  {
   "cell_type": "code",
   "execution_count": 64,
   "metadata": {},
   "outputs": [],
   "source": [
    "H = qt.qip.operations.hadamard_transform(1)\n",
    "X = qt.sigmax()\n",
    "Y = qt.sigmay()"
   ]
  },
  {
   "cell_type": "code",
   "execution_count": 82,
   "metadata": {},
   "outputs": [],
   "source": [
    "mY2 = qt.qip.operations.gates.ry(-np.pi/2)\n",
    "X2 = qt.qip.operations.gates.rx(-np.pi/2)\n",
    "Z2 = qt.qip.operations.gates.rz(-np.pi/2)"
   ]
  },
  {
   "cell_type": "code",
   "execution_count": 86,
   "metadata": {},
   "outputs": [
    {
     "data": {
      "text/latex": [
       "Quantum object: dims = [[2], [2]], shape = (2, 2), type = oper, isherm = False\\begin{equation*}\\left(\\begin{array}{*{11}c}0.707j & -0.707j\\\\0.707j & 0.707j\\\\\\end{array}\\right)\\end{equation*}"
      ],
      "text/plain": [
       "Quantum object: dims = [[2], [2]], shape = (2, 2), type = oper, isherm = False\n",
       "Qobj data =\n",
       "[[0.+0.70710678j 0.-0.70710678j]\n",
       " [0.+0.70710678j 0.+0.70710678j]]"
      ]
     },
     "execution_count": 86,
     "metadata": {},
     "output_type": "execute_result"
    }
   ],
   "source": [
    "X*X2*Z2*X2"
   ]
  },
  {
   "cell_type": "code",
   "execution_count": 65,
   "metadata": {},
   "outputs": [],
   "source": [
    "IH = qt.tensor(qt.identity(2), H)\n",
    "IX = qt.tensor(qt.identity(2), X)\n",
    "IY = qt.tensor(qt.identity(2), Y)"
   ]
  },
  {
   "cell_type": "code",
   "execution_count": 50,
   "metadata": {},
   "outputs": [],
   "source": [
    "ImY2 = qt.tensor(qt.identity(2), mY2)\n",
    "IImY2 = qt.tensor(qt.identity(4), mY2)\n"
   ]
  },
  {
   "cell_type": "code",
   "execution_count": 43,
   "metadata": {},
   "outputs": [],
   "source": [
    "CZ = qt.qip.operations.cphase(np.pi)\n",
    "ICZ = qt.tensor(qt.identity(2), CZ)"
   ]
  },
  {
   "cell_type": "code",
   "execution_count": 61,
   "metadata": {},
   "outputs": [
    {
     "data": {
      "text/latex": [
       "Quantum object: dims = [[2, 2], [2, 2]], shape = (4, 4), type = oper, isherm = True\\begin{equation*}\\left(\\begin{array}{*{11}c}0.0 & 1.0 & 0.0 & 0.0\\\\1.0 & 0.0 & 0.0 & 0.0\\\\0.0 & 0.0 & 1.0 & 0.0\\\\0.0 & 0.0 & 0.0 & 1.0\\\\\\end{array}\\right)\\end{equation*}"
      ],
      "text/plain": [
       "Quantum object: dims = [[2, 2], [2, 2]], shape = (4, 4), type = oper, isherm = True\n",
       "Qobj data =\n",
       "[[0. 1. 0. 0.]\n",
       " [1. 0. 0. 0.]\n",
       " [0. 0. 1. 0.]\n",
       " [0. 0. 0. 1.]]"
      ]
     },
     "execution_count": 61,
     "metadata": {},
     "output_type": "execute_result"
    }
   ],
   "source": [
    "IH * CZ * IH * IX"
   ]
  },
  {
   "cell_type": "code",
   "execution_count": 87,
   "metadata": {},
   "outputs": [
    {
     "data": {
      "text/latex": [
       "Quantum object: dims = [[2, 2], [2, 2]], shape = (4, 4), type = oper, isherm = False\\begin{equation*}\\left(\\begin{array}{*{11}c}0.0 & -1.0 & 0.0 & 0.0\\\\1.0 & 0.0 & 0.0 & 0.0\\\\0.0 & 0.0 & 1.0 & 0.0\\\\0.0 & 0.0 & 0.0 & -1.0\\\\\\end{array}\\right)\\end{equation*}"
      ],
      "text/plain": [
       "Quantum object: dims = [[2, 2], [2, 2]], shape = (4, 4), type = oper, isherm = False\n",
       "Qobj data =\n",
       "[[ 0. -1.  0.  0.]\n",
       " [ 1.  0.  0.  0.]\n",
       " [ 0.  0.  1.  0.]\n",
       " [ 0.  0.  0. -1.]]"
      ]
     },
     "execution_count": 87,
     "metadata": {},
     "output_type": "execute_result"
    }
   ],
   "source": [
    "ImY2.dag() * CZ * ImY2.dag()"
   ]
  },
  {
   "cell_type": "code",
   "execution_count": 41,
   "metadata": {},
   "outputs": [
    {
     "data": {
      "text/latex": [
       "Quantum object: dims = [[2], [2]], shape = (2, 2), type = oper, isherm = False\\begin{equation*}\\left(\\begin{array}{*{11}c}0.707 & 0.707\\\\-0.707 & 0.707\\\\\\end{array}\\right)\\end{equation*}"
      ],
      "text/plain": [
       "Quantum object: dims = [[2], [2]], shape = (2, 2), type = oper, isherm = False\n",
       "Qobj data =\n",
       "[[ 0.70710678  0.70710678]\n",
       " [-0.70710678  0.70710678]]"
      ]
     },
     "execution_count": 41,
     "metadata": {},
     "output_type": "execute_result"
    }
   ],
   "source": [
    "qt.qip.operations.gates.ry(-np.pi/2)"
   ]
  },
  {
   "cell_type": "code",
   "execution_count": 33,
   "metadata": {},
   "outputs": [
    {
     "data": {
      "text/latex": [
       "Quantum object: dims = [[2, 2], [2, 2]], shape = (4, 4), type = oper, isherm = False\\begin{equation*}\\left(\\begin{array}{*{11}c}0.0 & 0.0 & -0.707j & -0.707j\\\\0.0 & 0.0 & -0.707j & 0.707j\\\\-0.707j & -0.707j & 0.0 & 0.0\\\\-0.707j & 0.707j & 0.0 & 0.0\\\\\\end{array}\\right)\\end{equation*}"
      ],
      "text/plain": [
       "Quantum object: dims = [[2, 2], [2, 2]], shape = (4, 4), type = oper, isherm = False\n",
       "Qobj data =\n",
       "[[0.+0.j         0.+0.j         0.-0.70710678j 0.-0.70710678j]\n",
       " [0.+0.j         0.+0.j         0.-0.70710678j 0.+0.70710678j]\n",
       " [0.-0.70710678j 0.-0.70710678j 0.+0.j         0.+0.j        ]\n",
       " [0.-0.70710678j 0.+0.70710678j 0.+0.j         0.+0.j        ]]"
      ]
     },
     "execution_count": 33,
     "metadata": {},
     "output_type": "execute_result"
    }
   ],
   "source": [
    "qt.tensor(qt.qip.operations.gates.rx(np.pi), qt.qip.operations.hadamard_transform(1))"
   ]
  }
 ],
 "metadata": {
  "kernelspec": {
   "display_name": "Python 3",
   "language": "python",
   "name": "python3"
  },
  "language_info": {
   "codemirror_mode": {
    "name": "ipython",
    "version": 3
   },
   "file_extension": ".py",
   "mimetype": "text/x-python",
   "name": "python",
   "nbconvert_exporter": "python",
   "pygments_lexer": "ipython3",
   "version": "3.8.3"
  }
 },
 "nbformat": 4,
 "nbformat_minor": 4
}
