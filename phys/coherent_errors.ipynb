{
 "cells": [
  {
   "cell_type": "markdown",
   "id": "e141d501-8c32-4a30-90ff-bdc9acea38da",
   "metadata": {},
   "source": [
    "# Coherent error models\n",
    "\n",
    "\n",
    "## basic calculation\n",
    "\n",
    "Let's say we want to play an -Y/2 gate and we have an error of $\\epsilon\\ll 1$ so that our rotation axis is not $-\\hat{y}$ but $-\\sqrt{1-\\epsilon^2}\\hat{y} + \\epsilon\\hat{x}$. What is the error associated with this?\n",
    "\n",
    "The unitary is: \n",
    "\n",
    "$$\n",
    "U_e = \\frac{1}{\\sqrt{2}}I - i\\frac{1}{\\sqrt{2}}(\\sqrt{1-\\epsilon^2}\\sigma_y + \\epsilon\\sigma_x)\n",
    "$$\n",
    "\n",
    "We want to calculate $F(|+>, U_e|0>) = |<+|U_e|0>|$. This is:\n",
    "\n",
    "$$\n",
    "U_e|0> = \\frac{1}{\\sqrt{2}}|0>+\\frac{1}{\\sqrt{2}}(\\sqrt{1-\\epsilon^2}|1>-i\\epsilon|1>) \\\\\n",
    " \\Rightarrow |<+|U_e|0>| = \\frac{1}{2}|1 + \\sqrt{1-\\epsilon^2}-i\\epsilon| \\\\\n",
    " = \\sqrt{\\frac{1}{2} + \\frac{1}{2} \\sqrt{1-\\epsilon^2}} \\\\\n",
    " \\simeq 1 -\\frac{1}{8}\\epsilon^2\n",
    "$$\n",
    "\n",
    "so we see that the error is of order $\\epsilon^2$.\n",
    "\n",
    "Let's verify this:"
   ]
  },
  {
   "cell_type": "code",
   "execution_count": 143,
   "id": "f0b0b4c9-78a6-4182-959d-3dee4691cac5",
   "metadata": {},
   "outputs": [],
   "source": [
    "import qutip as qp\n",
    "import numpy as np\n",
    "import matplotlib.pyplot as plt\n",
    "from collections import namedtuple\n",
    "%matplotlib inline\n",
    "plt.rcParams.update({'text.usetex': False})"
   ]
  },
  {
   "cell_type": "code",
   "execution_count": 2,
   "id": "bac05d54-450b-4057-bc14-fa4aa689259b",
   "metadata": {},
   "outputs": [],
   "source": [
    "\n",
    "err_u = lambda epsilon: qp.qip.operations.rotation(np.sqrt(1-epsilon**2)*qp.sigmay()+qp.sigmax()*epsilon, \n",
    "            np.pi/2)\n"
   ]
  },
  {
   "cell_type": "code",
   "execution_count": 3,
   "id": "802bbeee-a06b-44d6-a563-d1ffe95491d6",
   "metadata": {},
   "outputs": [],
   "source": [
    "def fidelity_err(epsilon):\n",
    "    return np.abs(((1/np.sqrt(2))*(qp.bra([0]) + qp.bra([1]))*err_u(epsilon)*qp.fock(2, 0))[0])\n",
    "\n",
    "fidelity_err = np.vectorize(fidelity_err)"
   ]
  },
  {
   "cell_type": "code",
   "execution_count": 144,
   "id": "c98c02b7-73a1-4b72-9f16-52a3c5c4dc4a",
   "metadata": {},
   "outputs": [
    {
     "data": {
      "text/plain": [
       "<matplotlib.legend.Legend at 0x7f9458c42760>"
      ]
     },
     "execution_count": 144,
     "metadata": {},
     "output_type": "execute_result"
    },
    {
     "data": {
      "image/png": "[encoded data removed]",
      "text/plain": [
       "<Figure size 432x288 with 1 Axes>"
      ]
     },
     "metadata": {
      "needs_background": "light"
     },
     "output_type": "display_data"
    }
   ],
   "source": [
    "\n",
    "eps_vec = np.linspace(0, 0.1, 100)\n",
    "plt.plot(eps_vec, fidelity_err(eps_vec), label='qutip')\n",
    "plt.plot(eps_vec, 1-eps_vec**2/8, '--', label='1-e^2/8')\n",
    "plt.xlabel('epsilon')\n",
    "plt.ylabel('fidelity')\n",
    "plt.legend()"
   ]
  },
  {
   "cell_type": "markdown",
   "id": "2acd77fa-24e0-4d4d-b75c-6271076cd366",
   "metadata": {},
   "source": [
    "## RB simulation with qiskit\n",
    "\n"
   ]
  },
  {
   "cell_type": "code",
   "execution_count": 17,
   "id": "fe05fec5-6fbf-4def-bc62-08cdd2f0d1d2",
   "metadata": {},
   "outputs": [],
   "source": [
    "# Import general libraries (needed for functions)\n",
    "import numpy as np\n",
    "import matplotlib.pyplot as plt\n",
    "from IPython import display\n",
    "\n",
    "# Import the RB Functions\n",
    "import qiskit.ignis.verification.randomized_benchmarking as rb\n",
    "\n",
    "# Import Qiskit classes \n",
    "import qiskit\n",
    "from qiskit import assemble, transpile\n",
    "from qiskit import QuantumCircuit\n",
    "from qiskit.providers.aer.noise import NoiseModel\n",
    "from qiskit.providers.aer.noise.errors.standard_errors import depolarizing_error, thermal_relaxation_error, coherent_unitary_error"
   ]
  },
  {
   "cell_type": "code",
   "execution_count": 81,
   "id": "ef26df7e-469e-4531-93ee-1ad30fc654a4",
   "metadata": {},
   "outputs": [
    {
     "data": {
      "text/plain": [
       "array([[ 0.70710678+0.00000000e+00j,  0.70710678-8.65956056e-17j],\n",
       "       [ 0.70710678+0.00000000e+00j, -0.70710678+8.65956056e-17j]])"
      ]
     },
     "execution_count": 81,
     "metadata": {},
     "output_type": "execute_result"
    }
   ],
   "source": [
    "qiskit.circuit.library.SXGate().to_matrix()\n",
    "sx_gate_u2.to_matrix()"
   ]
  },
  {
   "cell_type": "code",
   "execution_count": 136,
   "id": "0f3c76bf-a72a-4902-a496-3251b9510e91",
   "metadata": {
    "tags": []
   },
   "outputs": [
    {
     "name": "stdout",
     "output_type": "stream",
     "text": [
      "     ┌────┐┌──────────┐┌──────────┐┌──────────┐┌──────────┐┌──────────┐\n",
      "q_0: ┤ √X ├┤ Rx(-π/2) ├┤ Rx(-π/2) ├┤ Rx(-π/2) ├┤ Rx(-π/2) ├┤ Rx(-π/2) ├\n",
      "     └────┘└──────────┘└──────────┘└──────────┘└──────────┘└──────────┘\n",
      "c: 1/══════════════════════════════════════════════════════════════════\n",
      "                                                                       \n",
      "[[-0.707-0.707j -0.   +0.j   ]\n",
      " [-0.   +0.j    -0.707-0.707j]]\n"
     ]
    }
   ],
   "source": [
    "be_unitary = qiskit.Aer.get_backend('unitary_simulator')\n",
    "\n",
    "be_aer = qiskit.Aer.get_backend('aer_simulator')\n",
    "\n",
    "\n",
    "sy_gate = qiskit.circuit.library.RYGate(np.pi/2)\n",
    "sydg_gate = qiskit.circuit.library.RYGate(-np.pi/2)\n",
    "sx_gate = qiskit.circuit.library.RXGate(np.pi/2)\n",
    "sxdg_gate = qiskit.circuit.library.RXGate(-np.pi/2)\n",
    "\n",
    "circ = QuantumCircuit(1, 1)\n",
    "circ.sx(0)\n",
    "circ.append(sxdg_gate, [0])\n",
    "circ.append(sxdg_gate, [0])\n",
    "circ.append(sxdg_gate, [0])\n",
    "circ.append(sxdg_gate, [0])\n",
    "circ.append(sxdg_gate, [0])\n",
    "\n",
    "print(circ.draw())\n",
    "job = be_unitary.run(circ,\n",
    "                 noise_model=noise_model)\n",
    "print(np.around(job.result().get_unitary(), 3))\n",
    "\n",
    "#circ.measure(0, 0)\n",
    "\n",
    "\n",
    "\n",
    "def qiskit_u_err(epsilon, nshots=100000):\n",
    "    z_rot = qiskit.circuit.library.U1Gate(epsilon)\n",
    "\n",
    "    noise_model = NoiseModel()\n",
    "    noise_model.add_all_qubit_quantum_error(coherent_unitary_error(z_rot), 'sx')\n",
    "\n",
    "    circ.measure(0, 0)\n",
    "    job = be_aer.run(assemble(circ, shots=nshots),\n",
    "                      noise_model=noise_model)\n",
    "    return job.result().get_counts()['0']/nshots"
   ]
  },
  {
   "cell_type": "code",
   "execution_count": 137,
   "id": "c8c1a564-46a4-416f-b462-b996bee5abc2",
   "metadata": {},
   "outputs": [],
   "source": [
    "error_model = [qiskit_u_err(eps) for eps in eps_vec]"
   ]
  },
  {
   "cell_type": "code",
   "execution_count": 147,
   "id": "01472431-e0b8-4ca9-9266-2cedec37be3c",
   "metadata": {},
   "outputs": [
    {
     "data": {
      "text/plain": [
       "Text(0.5, 1.0, 'qiskit simulation of initial phase error')"
      ]
     },
     "execution_count": 147,
     "metadata": {},
     "output_type": "execute_result"
    },
    {
     "data": {
      "image/png": "[encoded data removed]",
      "text/plain": [
       "<Figure size 432x288 with 1 Axes>"
      ]
     },
     "metadata": {
      "needs_background": "light"
     },
     "output_type": "display_data"
    }
   ],
   "source": [
    "plt.plot(eps_vec, error_model, label='qiskit sim')\n",
    "plt.plot(eps_vec, 1-eps_vec**2/4, '--', label='1-e^2/4')\n",
    "plt.xlabel('initial angle error [rad]')\n",
    "plt.ylabel('fidelity')\n",
    "plt.legend()\n",
    "plt.title('qiskit simulation of initial phase error')"
   ]
  },
  {
   "cell_type": "code",
   "execution_count": null,
   "id": "bdd733aa-71a0-4eb7-9d24-5b455e423536",
   "metadata": {},
   "outputs": [],
   "source": [
    "# Run on a noisy simulator\n",
    "noise_model = NoiseModel()\n",
    "\n",
    "# Depolarizing error on the gates u2, u3 and cx (assuming the u1 is virtual-Z gate and no error)\n",
    "p1Q = 0.002\n",
    "p2Q = 0.01\n",
    "\n",
    "noise_model.add_all_qubit_quantum_error(depolarizing_error(p1Q, 1), 'u2')\n",
    "noise_model.add_all_qubit_quantum_error(depolarizing_error(2 * p1Q, 1), 'u3')\n",
    "noise_model.add_all_qubit_quantum_error(depolarizing_error(p2Q, 2), 'cx')\n",
    "\n",
    "\n",
    "\n",
    "backend = qiskit.Aer.get_backend('aer_simulator')\n",
    "basis_gates = ['u1','u2','u3','cx'] \n",
    "shots = 200\n",
    "transpiled_circs_list = []\n",
    "rb_fit = rb.RBFitter(None, xdata, rb_opts['rb_pattern'])\n",
    "for rb_seed, rb_circ_seed in enumerate(rb_circs):\n",
    "    print(f'Compiling seed {rb_seed}')\n",
    "    new_rb_circ_seed = qiskit.compiler.transpile(rb_circ_seed, basis_gates=basis_gates)\n",
    "    transpiled_circs_list.append(new_rb_circ_seed)\n",
    "    print(f'Simulating seed {rb_seed}')\n",
    "    qobj = assemble(new_rb_circ_seed, shots=shots)\n",
    "    job = backend.run(qobj,\n",
    "                      noise_model=noise_model,\n",
    "                      max_parallel_experiments=0)\n",
    "    # Add data to the fitter\n",
    "    rb_fit.add_data(job.result())\n",
    "    print('After seed %d, alpha: %f, EPC: %f'%(rb_seed,rb_fit.fit[0]['params'][1], rb_fit.fit[0]['epc']))"
   ]
  }
 ],
 "metadata": {
  "kernelspec": {
   "display_name": "Python 3",
   "language": "python",
   "name": "python3"
  },
  "language_info": {
   "codemirror_mode": {
    "name": "ipython",
    "version": 3
   },
   "file_extension": ".py",
   "mimetype": "text/x-python",
   "name": "python",
   "nbconvert_exporter": "python",
   "pygments_lexer": "ipython3",
   "version": "3.9.1"
  }
 },
 "nbformat": 4,
 "nbformat_minor": 5
}
