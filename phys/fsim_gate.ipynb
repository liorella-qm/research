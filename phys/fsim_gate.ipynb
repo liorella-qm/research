{
 "cells": [
  {
   "cell_type": "markdown",
   "id": "4c0027df-77e4-4767-ba1f-24d91ec608c8",
   "metadata": {},
   "source": [
    "# fSim gate simulation\n",
    "\n",
    "here we simulate an fSim gate, focusing on the unitary that is being performed when we play a particular sequence of pulses. We start with the Hamiltonian:\n",
    "\n",
    "$$\n",
    "H = \\sum_{i=1,2} \\left( \\omega_i a_i^\\dagger a_i + \\frac{\\eta}{2}a^{\\dagger 2}_i a^2_i \\right) \\\\\n",
    "+ g(t)(a_1^\\dagger a_2 + a_2^\\dagger a_1)\n",
    "$$\n",
    "\n",
    "(open question: how does this get translated to sigma_x sigma_x etc. operators?)\n",
    "\n",
    "and move to the interaction picture with the Hamiltonian $H_0 = \\frac{\\omega_1+\\omega_2}{2} (a_1^\\dagger a_1 + a_2^\\dagger a_2$). After doing this transformation we get the Hamiltonian:\n",
    "\n",
    "$$\n",
    "H =\n",
    "\\begin{pmatrix}\n",
    "-\\Delta/2 & g & 0 & 0 & 0 \\\\\n",
    "g & \\Delta/2 & 0 & 0 & 0 \\\\\n",
    "0 & 0 & 0 & \\sqrt{2}g & \\sqrt{2}g \\\\\n",
    "0 & 0 & \\sqrt{2}g & -\\Delta + \\eta  & 0\\\\\n",
    "0 & 0 & \\sqrt{2}g & 0 & \\Delta + \\eta\n",
    "\\end{pmatrix}\n",
    "$$\n",
    "\n",
    "We want to investigate the unitary that stems from this Hamiltonian for different times and initial states."
   ]
  },
  {
   "cell_type": "code",
   "execution_count": 1,
   "id": "f319fab8-8842-4567-aa76-efc8fecb3473",
   "metadata": {},
   "outputs": [],
   "source": [
    "import qutip as qp\n",
    "import numpy as np\n",
    "import matplotlib.pyplot as plt"
   ]
  },
  {
   "cell_type": "code",
   "execution_count": 2,
   "id": "64a5541d-7cb4-410e-8ea7-07cbe7acd8f3",
   "metadata": {},
   "outputs": [],
   "source": [
    "\n",
    "Nh = 2\n",
    "\n",
    "omega1 = 0#5  # GHz\n",
    "omega2 = 6  # GHz\n",
    "Delta = omega2 - omega1\n",
    "omega_av = (omega1 + omega2) / 2\n",
    "eta = 0.3  # GHz\n",
    "\n",
    "a = qp.destroy(Nh)\n",
    "I = qp.qeye(Nh)\n",
    "\n",
    "a1 = qp.tensor([a, I])\n",
    "a2 = qp.tensor([I, a])\n",
    "\n",
    "# transfomration to rotating frame Hamiltonian\n",
    "H00 = omega_av * (a1 * a1.dag() + a2 * a2.dag())\n",
    "\n",
    "# static part of interaction Hamiltonian\n",
    "H01 = (Delta/2)*(a2.dag()*a2-a1.dag()*a1) + \\\n",
    "     0#(eta/2)*(a1.dag()**2*a1**2 + a2.dag()**2*a2**2) \n",
    "\n",
    "# dynamic coupling interaction operators\n",
    "H10 = a1.dag() * a2 + a2.dag() * a1\n",
    "\n",
    "# dynamic detuning operators\n",
    "Hz1 = a2.dag()*a2 - a1.dag()*a1\n",
    "\n"
   ]
  },
  {
   "cell_type": "code",
   "execution_count": 3,
   "id": "b4c804a5-5332-4cfc-8aab-0d66be67f18e",
   "metadata": {},
   "outputs": [
    {
     "data": {
      "text/latex": [
       "Quantum object: dims = [[2, 2], [2, 2]], shape = (4, 4), type = oper, isherm = True\\begin{equation*}\\left(\\begin{array}{*{11}c}0.0 & 0.0 & 0.0 & 0.0\\\\0.0 & 3.0 & 0.0 & 0.0\\\\0.0 & 0.0 & -3.0 & 0.0\\\\0.0 & 0.0 & 0.0 & 0.0\\\\\\end{array}\\right)\\end{equation*}"
      ],
      "text/plain": [
       "Quantum object: dims = [[2, 2], [2, 2]], shape = (4, 4), type = oper, isherm = True\n",
       "Qobj data =\n",
       "[[ 0.  0.  0.  0.]\n",
       " [ 0.  3.  0.  0.]\n",
       " [ 0.  0. -3.  0.]\n",
       " [ 0.  0.  0.  0.]]"
      ]
     },
     "execution_count": 3,
     "metadata": {},
     "output_type": "execute_result"
    }
   ],
   "source": [
    "H01"
   ]
  },
  {
   "cell_type": "code",
   "execution_count": 4,
   "id": "eddc2351-ec3d-4f85-b2a9-f2058672a1c9",
   "metadata": {},
   "outputs": [],
   "source": [
    "# solve schrodinger equation with initial state 00 and pi/2 pulse on qubit 1\n",
    "tvec = np.linspace(0, 99.8, 500)\n",
    "psi0 = qp.fock([Nh, Nh], [0, 0])\n",
    "\n",
    "# time dependent functions\n",
    "def g(t, *args):\n",
    "    return 0\n",
    "\n",
    "\n",
    "def detun(t, *args):\n",
    "    return 0\n",
    "\n",
    "\n",
    "def q2_drive(t, *args):  # this is the baseband signal\n",
    "    if 10 < t and t < 20:\n",
    "        return np.pi * 0.1\n",
    "    else:\n",
    "        return 0\n",
    "\n",
    "\n",
    "def q1_drive(t, *args):  # this is the baseband signal\n",
    "    if 10 < t and t < 20:\n",
    "        return np.pi * 0.1\n",
    "    else:\n",
    "        return 0\n",
    "\n",
    "\n",
    "def a1_dr(t, *args):\n",
    "    return q1_drive(t, *args) * np.exp(-1j *(Delta/2) * t)\n",
    "\n",
    "\n",
    "def a1d_dr(t, *args):\n",
    "    return q1_drive(t, *args) * np.exp(1j * (Delta/2) * t)\n",
    "\n",
    "\n",
    "def a2_dr(t, *args):\n",
    "    return q2_drive(t, *args) * np.exp(-1j * (-Delta/2) * t)\n",
    "\n",
    "\n",
    "def a2d_dr(t, *args):\n",
    "    return q2_drive(t, *args) * np.exp(1j * (-Delta/2) * t)\n",
    "\n",
    "\n",
    "H = [H01,\n",
    "     [H10, g],\n",
    "     [Hz1, detun],\n",
    "     [a1, a1_dr],\n",
    "     [a1.dag(), a1d_dr],\n",
    "     [a2, a2_dr],\n",
    "     [a2.dag(), a2d_dr],\n",
    "    ]\n",
    "\n",
    "sol = qp.sesolve(H, psi0, tvec, e_ops = [a1.dag()*a1, a2.dag()*a2], options=qp.Options(max_step=1))"
   ]
  },
  {
   "cell_type": "code",
   "execution_count": 5,
   "id": "37325d12-d0d0-49a4-9605-addc01dbc2c7",
   "metadata": {},
   "outputs": [
    {
     "data": {
      "image/png": "[encoded data removed]",
      "text/plain": [
       "<Figure size 432x288 with 2 Axes>"
      ]
     },
     "metadata": {
      "needs_background": "light"
     },
     "output_type": "display_data"
    }
   ],
   "source": [
    "sol.expect[0]\n",
    "fig, ax = plt.subplots(2, 1)\n",
    "axn = ax[0]\n",
    "axn.plot(sol.times, [q1_drive(t) for t in sol.times], label='q1 drive')\n",
    "axn.plot(sol.times, [q2_drive(t) for t in sol.times], label='q2 drive')\n",
    "axn.legend()\n",
    "axn = ax[1]\n",
    "axn.plot(sol.times, sol.expect[0], label='<n1>')\n",
    "axn.plot(sol.times, sol.expect[1], label='<n2>')\n",
    "plt.legend()\n",
    "axn.grid('minor')"
   ]
  },
  {
   "cell_type": "code",
   "execution_count": null,
   "id": "4a44d260-4ed8-40f9-8137-9a70390d9fbd",
   "metadata": {},
   "outputs": [],
   "source": []
  }
 ],
 "metadata": {
  "kernelspec": {
   "display_name": "Python 3",
   "language": "python",
   "name": "python3"
  },
  "language_info": {
   "codemirror_mode": {
    "name": "ipython",
    "version": 3
   },
   "file_extension": ".py",
   "mimetype": "text/x-python",
   "name": "python",
   "nbconvert_exporter": "python",
   "pygments_lexer": "ipython3",
   "version": "3.9.1"
  }
 },
 "nbformat": 4,
 "nbformat_minor": 5
}
