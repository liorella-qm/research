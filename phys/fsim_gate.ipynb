{
 "cells": [
  {
   "cell_type": "markdown",
   "id": "4c0027df-77e4-4767-ba1f-24d91ec608c8",
   "metadata": {
    "tags": []
   },
   "source": [
    "# fSim gate simulation\n",
    "\n",
    "here we simulate an fSim gate, focusing on the unitary that is being performed when we play a particular sequence of pulses. We start with the Hamiltonian:\n",
    "\n",
    "$$\n",
    "H = \\sum_{i=1,2} \\left( (\\omega_i + \\delta \\omega_i(t)) a_i^\\dagger a_i + \\frac{\\eta}{2}a^{\\dagger 2}_i a^2_i \\right) \\\\\n",
    "+ g(t)(a_1^\\dagger a_2 + a_2^\\dagger a_1) \\\\\n",
    "+ \\sum_{i=1,2} \\frac{\\Omega_i(t)}{2}(a_i + a_i^\\dagger).\n",
    "$$\n",
    "\n",
    "Here $g(t)$ is a time controlled coupling term, $\\Omega_i(t)$ is a single qubit drive term, $\\omega_i$ are the 01 transition frequencies, $\\delta\\omega_i(t)$ is the controlled time dependent detuning and $\\eta$ is the anharmonicity.\n",
    "\n",
    "An implicit assumption in quantum computing is that all qubits have the same transition frequency, and therefore one can switch to a common frame of reference where there is no dynamics when no gates are being executed. But in a real SC qubit system, the frequencies are different and the only way to perform an interaction is to bring certain transitions to be on resonance for a limited amount of time. However, because the qubits evolve in the lab frame at different rates, this can introduce an interaction that depends on the execution time of the gate, which needs to be compensated. This is what we show here."
   ]
  },
  {
   "cell_type": "code",
   "execution_count": 1,
   "id": "f319fab8-8842-4567-aa76-efc8fecb3473",
   "metadata": {
    "tags": []
   },
   "outputs": [],
   "source": [
    "import qutip as qp\n",
    "import numpy as np\n",
    "import matplotlib.pyplot as plt\n",
    "from collections import namedtuple\n",
    "%matplotlib inline"
   ]
  },
  {
   "cell_type": "markdown",
   "id": "8617e7a1-7192-49ed-99a7-5cfcaf9a6ee9",
   "metadata": {},
   "source": [
    "## iSWAP gate\n",
    "\n",
    "To demonstrate an iSWAP gate operation we start with a truncated 2 dimensional hilbert space and remove the anharmonic part ($\\eta=0$). We then switch to the rotating frame with the transformation Hamiltonian\n",
    "$\n",
    "H_0 = \\sum_{i=1,2}\\omega_i n_i\n",
    "$,\n",
    "where $n_i = a_i^\\dagger a_i$.\n",
    "In this frame, the Hamiltonian becomes:\n",
    "\n",
    "$$\n",
    "H_1^i = \\sum_{i=1,2}  \\delta \\omega_i(t) n_i  \\\\\n",
    "+ g(t)(a_1^\\dagger a_2 e^{-i\\Delta t} + a_2^\\dagger a_1 e^{i\\Delta t}) \\\\\n",
    "+ \\sum_{i=1,2} \\frac{\\Omega_i(t)}{2}(a_i e^{-i\\omega_i t} + a_i^\\dagger e^{i\\omega_i t}).\n",
    "$$\n",
    "\n",
    "In practice, only the first and 2nd terms or the 3rd term will be \"on\" (non-zero) at a given time, when performing an iSWAP or a single qubit gate, respectively. Let's focus on the iSWAP case. Here, we can define raising and lowering operators as well as a Z operator in the SWAP space $\\{|S_0> = |1,0>, |S_1> = |0,1>\\}$:\n",
    "\n",
    "$$\n",
    "J_+ = a_2^\\dagger a_1 \\\\\n",
    "J_- = a_1^\\dagger a_2 \\\\\n",
    "J_z = (n_2 - n_1) /2\n",
    "$$\n",
    "\n",
    "Let's assume that we detune the qubits to be at the center point when doing an iSWAP for simplicity, i.e $\\delta\\omega_2 = -\\delta\\omega_1$. Then the iSWAP Hamlitonian becomes:\n",
    "\n",
    "$$\n",
    "H_1^i(t=\\mathrm{iSWAP}) = -\\Delta J_z + g(t)(J_+ e^{i\\Delta t} + J_- e^{-i\\Delta t}) \n",
    "$$\n",
    "\n",
    "where $\\Delta = \\omega_2 - \\omega_1$ (this will give us $\\omega_1 + \\delta\\omega_1 = \\omega_2 + \\delta \\omega_2 $).\n",
    "Let's define operators and look at their matrix representation:"
   ]
  },
  {
   "cell_type": "code",
   "execution_count": 4,
   "id": "f5b31773-b240-4a8a-8544-ea9e0296fdc3",
   "metadata": {
    "tags": []
   },
   "outputs": [],
   "source": [
    "# Single qubit Hilbert space dimension\n",
    "Nh = 2\n",
    "\n",
    "# operator definitions\n",
    "\n",
    "a = qp.destroy(Nh)\n",
    "I = qp.qeye(Nh)\n",
    "\n",
    "a1 = qp.tensor([a, I])\n",
    "a2 = qp.tensor([I, a])\n",
    "\n",
    "n1 = a1.dag() * a1\n",
    "n2 = a2.dag() * a2\n",
    "\n",
    "# static part of interaction Hamiltonian\n",
    "H01 = 0 * n1\n",
    "if Nh == 3:  # anharmonicity\n",
    "    H01 += (eta/2)*(a1.dag()**2*a1**2 + a2.dag()**2*a2**2) \n",
    "\n",
    "# dynamic coupling interaction operators\n",
    "J_minus = a1.dag() * a2\n",
    "J_plus = a2.dag() * a1\n",
    "\n",
    "# dynamic detuning operator\n",
    "J_z = (n2 - n1)/2"
   ]
  },
  {
   "cell_type": "code",
   "execution_count": 5,
   "id": "bb7f8dfb-fd18-4ed7-8f47-17b114eb5c97",
   "metadata": {
    "tags": []
   },
   "outputs": [
    {
     "name": "stdout",
     "output_type": "stream",
     "text": [
      "Quantum object: dims = [[2, 2], [2, 2]], shape = (4, 4), type = oper, isherm = True\n",
      "Qobj data =\n",
      "[[ 0.   0.   0.   0. ]\n",
      " [ 0.   0.5  0.   0. ]\n",
      " [ 0.   0.  -0.5  0. ]\n",
      " [ 0.   0.   0.   0. ]]\n",
      "Quantum object: dims = [[2, 2], [2, 2]], shape = (4, 4), type = oper, isherm = False\n",
      "Qobj data =\n",
      "[[0. 0. 0. 0.]\n",
      " [0. 0. 0. 0.]\n",
      " [0. 1. 0. 0.]\n",
      " [0. 0. 0. 0.]]\n"
     ]
    }
   ],
   "source": [
    "print(J_z)\n",
    "print(J_minus)"
   ]
  },
  {
   "cell_type": "code",
   "execution_count": 6,
   "id": "4c5d9c55-4e05-4e77-a8e8-27b36e23a268",
   "metadata": {
    "tags": []
   },
   "outputs": [],
   "source": [
    "S0= qp.fock([2, 2], [1,0])\n",
    "S1 = qp.fock([2, 2], [0,1])"
   ]
  },
  {
   "cell_type": "code",
   "execution_count": 7,
   "id": "3750ea5c-ca92-4468-8cb9-78abd8881b9a",
   "metadata": {
    "tags": []
   },
   "outputs": [
    {
     "data": {
      "text/plain": [
       "True"
      ]
     },
     "execution_count": 7,
     "metadata": {},
     "output_type": "execute_result"
    }
   ],
   "source": [
    "J_minus * S1 == S0"
   ]
  },
  {
   "cell_type": "markdown",
   "id": "2c54b766-896c-4b36-a454-1813fc54baa9",
   "metadata": {},
   "source": [
    "We see that they behave like real pauli operators in the swap space.\n",
    "\n",
    "## Conneting to the quantum computing iSWAP operator\n",
    "\n",
    "the quantum computing iSWAP operator is:"
   ]
  },
  {
   "cell_type": "markdown",
   "id": "aa52a74f-b45c-43be-bc36-bb4d65e1e703",
   "metadata": {},
   "source": [
    "Let's start with some general parameters:"
   ]
  },
  {
   "cell_type": "code",
   "execution_count": 10,
   "id": "a8bb950a-c7f1-407b-a92e-45b7c53883c8",
   "metadata": {},
   "outputs": [],
   "source": [
    "# general parameters\n",
    "\n",
    "# qubit parameters\n",
    "omega1 = 2*np.pi*6.05  # GHz\n",
    "omega2 = 2*np.pi*5.95  # GHz\n",
    "Delta = omega2 - omega1\n",
    "omega_av = (omega1 + omega2) / 2\n",
    "eta = 2*np.pi*0.3  # GHz\n",
    "\n",
    "# transfomration to rotating frame Hamiltonian\n",
    "H00 = omega1 * a1.dag() * a1 + omega2 * a2.dag() * a2"
   ]
  },
  {
   "cell_type": "code",
   "execution_count": 11,
   "id": "5dd5ce17-dd80-489e-9dc6-78a39612c753",
   "metadata": {
    "tags": []
   },
   "outputs": [
    {
     "data": {
      "text/latex": [
       "Quantum object: dims = [[2, 2], [2, 2]], shape = (4, 4), type = oper, isherm = False\\begin{equation*}\\left(\\begin{array}{*{11}c}1.0 & 0.0 & 0.0 & 0.0\\\\0.0 & 0.0 & 1.0j & 0.0\\\\0.0 & 1.0j & 0.0 & 0.0\\\\0.0 & 0.0 & 0.0 & 1.0\\\\\\end{array}\\right)\\end{equation*}"
      ],
      "text/plain": [
       "Quantum object: dims = [[2, 2], [2, 2]], shape = (4, 4), type = oper, isherm = False\n",
       "Qobj data =\n",
       "[[1.+0.j 0.+0.j 0.+0.j 0.+0.j]\n",
       " [0.+0.j 0.+0.j 0.+1.j 0.+0.j]\n",
       " [0.+0.j 0.+1.j 0.+0.j 0.+0.j]\n",
       " [0.+0.j 0.+0.j 0.+0.j 1.+0.j]]"
      ]
     },
     "execution_count": 11,
     "metadata": {},
     "output_type": "execute_result"
    }
   ],
   "source": [
    "qp.operations.iswap()"
   ]
  },
  {
   "cell_type": "markdown",
   "id": "2231b4a1-e07c-4125-85e0-89de02a24ec0",
   "metadata": {},
   "source": [
    "this can be obtained by exponentiating $J_+ + J_-$, namely:\n",
    "\n",
    "$$\n",
    "\\mathrm{iSWAP} = e^{-i\\frac{\\pi}{2}(J_+ + J_-)}\n",
    "$$\n",
    "\n",
    "as we can see here:"
   ]
  },
  {
   "cell_type": "code",
   "execution_count": 12,
   "id": "f20e68f1-f552-41d1-992c-6d7aeb68b0de",
   "metadata": {},
   "outputs": [
    {
     "data": {
      "text/latex": [
       "Quantum object: dims = [[2, 2], [2, 2]], shape = (4, 4), type = oper, isherm = False\\begin{equation*}\\left(\\begin{array}{*{11}c}1.0 & 0.0 & 0.0 & 0.0\\\\0.0 & 0.0 & -1.0j & 0.0\\\\0.0 & -1.0j & 0.0 & 0.0\\\\0.0 & 0.0 & 0.0 & 1.0\\\\\\end{array}\\right)\\end{equation*}"
      ],
      "text/plain": [
       "Quantum object: dims = [[2, 2], [2, 2]], shape = (4, 4), type = oper, isherm = False\n",
       "Qobj data =\n",
       "[[1.+0.j 0.+0.j 0.+0.j 0.+0.j]\n",
       " [0.+0.j 0.+0.j 0.-1.j 0.+0.j]\n",
       " [0.+0.j 0.-1.j 0.+0.j 0.+0.j]\n",
       " [0.+0.j 0.+0.j 0.+0.j 1.+0.j]]"
      ]
     },
     "execution_count": 12,
     "metadata": {},
     "output_type": "execute_result"
    }
   ],
   "source": [
    "iswap = lambda t1, angle: (-1j*(J_plus * np.exp(1j * Delta * t1) + J_minus * np.exp(-1j * Delta * t1)) * 0.5 * angle).expm()\n",
    "iswap(0, np.pi)"
   ]
  },
  {
   "cell_type": "markdown",
   "id": "c38517e5-a9bb-4867-8a27-e54d011405a2",
   "metadata": {},
   "source": [
    "Now, the question is: What is the difference between the quantum computing iSWAP and the unitary we get from exponentiating over the Hamlitonian?\n",
    "\n",
    "The unitary, started at time $t_1$ and up to time $t_2$, is:\n",
    "\n",
    "$$\n",
    "U(t_1, t_2) = \\exp\\left( \\int_{t_1}^{t_2} dt \\left(-\\Delta J_z + g(t)(J_+ e^{i\\Delta t} + J_- e^{-i\\Delta t})\\right)  \\right)\n",
    "$$\n",
    "\n",
    "TODO: add rest of derivation"
   ]
  },
  {
   "cell_type": "code",
   "execution_count": null,
   "id": "6fa6d7d6-e918-44ac-971f-2940820230df",
   "metadata": {},
   "outputs": [],
   "source": []
  },
  {
   "cell_type": "code",
   "execution_count": 13,
   "id": "e1d9a475-0b46-43f8-8bbb-eccec5bab6a2",
   "metadata": {
    "tags": []
   },
   "outputs": [],
   "source": [
    "# solve schrodinger equation with initial state 00 and pi/2 pulse on qubit 1\n",
    "\n",
    "# pulse parameters\n",
    "pi_factor1 = 0.5\n",
    "pi_factor2 = 0.5\n",
    "\n",
    "ts1 = 0\n",
    "single_pulse_duration = 40  # nsec\n",
    "\n",
    "t_final = 125\n",
    "psi0 = qp.fock([Nh, Nh], [0, 0])\n",
    "args_dict = {\n",
    "    't_start_swap': 73.4,\n",
    "    'swap_angle': np.pi,\n",
    "    'swap_duration': 20,\n",
    "    'ts2': 133.32132\n",
    "    }"
   ]
  },
  {
   "cell_type": "code",
   "execution_count": 14,
   "id": "eddc2351-ec3d-4f85-b2a9-f2058672a1c9",
   "metadata": {
    "tags": []
   },
   "outputs": [],
   "source": [
    "# time dependent functions\n",
    "def g(t, **args):\n",
    "    if args['t_start_swap'] < t and t < args['t_start_swap'] + args['swap_duration']:\n",
    "        return 0.5 * args['swap_angle'] / args['swap_duration']\n",
    "    else:\n",
    "        return 0\n",
    "\n",
    "\n",
    "def g_plus(t, args):\n",
    "    return g(t, **args) * np.exp(1j * Delta * t)\n",
    "\n",
    "\n",
    "def g_minus(t, args):\n",
    "    return g(t, **args) * np.exp(-1j * Delta * t)\n",
    "\n",
    "\n",
    "def detun(t, args):\n",
    "    if args['t_start_swap'] < t and t < args['t_start_swap'] + args['swap_duration']:\n",
    "        return -Delta\n",
    "    else:\n",
    "        return 0\n",
    "\n",
    "\n",
    "def cosine_pulse(t, t_start, duration):\n",
    "    return 0.5 * np.pi * np.pi * np.cos(2*np.pi*(t - t_start - duration/2)/(2*duration)) / duration\n",
    "\n",
    "\n",
    "def q1_drive(t, **args):  # this is the baseband signal\n",
    "    if ts1 < t and t < ts1 + single_pulse_duration:\n",
    "        return pi_factor1 * cosine_pulse(t, ts1, single_pulse_duration)\n",
    "#     if args['ts2'] < t and t < args['ts2'] + single_pulse_duration:\n",
    "#         return pi_factor1 * cosine_pulse(t, args['ts2'], single_pulse_duration)\n",
    "    else:\n",
    "        return 0\n",
    "\n",
    "    \n",
    "def q2_drive(t, **args):  # this is the baseband signal\n",
    "    if ts1 < t and t < ts1 + single_pulse_duration:\n",
    "        return pi_factor2 * cosine_pulse(t, ts1, single_pulse_duration)\n",
    "#     if ts2 < t and t < ts2 + single_pulse_duration:\n",
    "#         return pi_factor2 * cosine_pulse(t, ts2, single_pulse_duration)\n",
    "    else:\n",
    "        return 0\n",
    "\n",
    "\n",
    "# functions for a, adag operator coefficients (currently only -Y/2)\n",
    "def a1_dr(t, args):\n",
    "    return 0.5 * -1j * q1_drive(t, **args)\n",
    "\n",
    "\n",
    "def a1d_dr(t, args):\n",
    "    return 0.5 * 1j  * q1_drive(t, **args)\n",
    "\n",
    "\n",
    "def a2_dr(t, args):\n",
    "    return 0.5 * -1j * q2_drive(t, **args)\n",
    "\n",
    "\n",
    "def a2d_dr(t, args):\n",
    "    return 0.5 * 1j * q2_drive(t, **args)\n",
    "\n",
    "\n",
    "H = [H01,\n",
    "     [J_minus, g_minus],\n",
    "     [J_plus, g_plus],\n",
    "     [J_z, detun],\n",
    "     [a1, a1_dr],\n",
    "     [a1.dag(), a1d_dr],\n",
    "     [a2, a2_dr],\n",
    "     [a2.dag(), a2d_dr],\n",
    "    ]\n",
    "\n",
    "# integrate\n",
    "tvec = np.arange(0, t_final, 0.2)\n",
    "sol = qp.sesolve(H, psi0, tvec,\n",
    "                 args=args_dict,\n",
    "#                  e_ops = [a1.dag()*a1,\n",
    "#                           a2.dag()*a2,                      \n",
    "#                          ],\n",
    "                 options=qp.Options(max_step=1))"
   ]
  },
  {
   "cell_type": "code",
   "execution_count": 15,
   "id": "37325d12-d0d0-49a4-9605-addc01dbc2c7",
   "metadata": {
    "jupyter": {
     "source_hidden": true
    },
    "tags": []
   },
   "outputs": [
    {
     "data": {
      "text/plain": [
       "Text(0.5, 0, 'time [nsec]')"
      ]
     },
     "execution_count": 15,
     "metadata": {},
     "output_type": "execute_result"
    },
    {
     "data": {
      "image/png": "[encoded data removed]",
      "text/plain": [
       "<Figure size 1008x864 with 4 Axes>"
      ]
     },
     "metadata": {
      "needs_background": "light"
     },
     "output_type": "display_data"
    }
   ],
   "source": [
    "\n",
    "fig, ax = plt.subplots(4, 1, sharex='all', figsize=(14, 12))\n",
    "\n",
    "axn = ax[0]\n",
    "axn.plot(sol.times, [q1_drive(t) for t in sol.times], label='q1 xy drive')\n",
    "axn.plot(sol.times, [q2_drive(t) for t in sol.times], label='q2 xy drive')\n",
    "axn.legend()\n",
    "axn.set_title('xy drive pulses')\n",
    "axn.grid('all')\n",
    "\n",
    "axn = ax[1]\n",
    "axn.plot(sol.times, [g(t, **args_dict) for t in sol.times], label='g')\n",
    "axn.plot(sol.times, [-Delta + 2 * detun(t, args_dict) for t in sol.times], label='detuning')\n",
    "axn.legend()\n",
    "axn.set_title('z drive pulses')\n",
    "axn.grid('all')\n",
    "\n",
    "axn = ax[2]\n",
    "slist = [[0,0], [0,1], [1,0], [1,1]]\n",
    "for i in range(4):\n",
    "    axn.plot(sol.times, [np.squeeze(np.abs(s[i])**2) for s in sol.states],\n",
    "             label=str(slist[i]),\n",
    "             marker='o',\n",
    "             markevery=slice(20*i, -1, 80),\n",
    "            )\n",
    "axn.legend()\n",
    "axn.set_ylabel('abs sq.')\n",
    "axn.grid('all')\n",
    "axn.set_title('prob. amplitude abs squared')\n",
    "\n",
    "# phases\n",
    "axn = ax[3]\n",
    "# intrinsic phases\n",
    "for i in range(4):\n",
    "    axn.plot(sol.times, np.unwrap([np.squeeze(np.angle(s[i])) for s in sol.states])/np.pi,\n",
    "             label=str(slist[i]),\n",
    "             marker='o',\n",
    "             markevery=slice(20*i, -1, 80),\n",
    "            )\n",
    "\n",
    "#axn.set_yticks(np.arange(-1, 1.25, 0.25))\n",
    "axn.grid('all')\n",
    "axn.legend()\n",
    "axn.set_ylabel('angle/pi')\n",
    "axn.set_title('prob. amplitude phases')\n",
    "\n",
    "ax[-1].set_xlabel('time [nsec]')\n"
   ]
  },
  {
   "cell_type": "code",
   "execution_count": 16,
   "id": "bb2d747e-98e2-45f1-ab2a-d7bb11eca4c0",
   "metadata": {},
   "outputs": [
    {
     "data": {
      "text/latex": [
       "Quantum object: dims = [[2, 2], [1, 1]], shape = (4, 1), type = ket\\begin{equation*}\\left(\\begin{array}{*{11}c}0.500\\\\(-0.422+0.268j)\\\\(0.422+0.268j)\\\\0.500\\\\\\end{array}\\right)\\end{equation*}"
      ],
      "text/plain": [
       "Quantum object: dims = [[2, 2], [1, 1]], shape = (4, 1), type = ket\n",
       "Qobj data =\n",
       "[[ 0.5000327 +0.j        ]\n",
       " [-0.42213475+0.26791817j]\n",
       " [ 0.42214869+0.26790441j]\n",
       " [ 0.50000712+0.j        ]]"
      ]
     },
     "execution_count": 16,
     "metadata": {},
     "output_type": "execute_result"
    }
   ],
   "source": [
    "sol.states[-1]"
   ]
  },
  {
   "cell_type": "code",
   "execution_count": 17,
   "id": "f2693356-ce95-46b5-9574-b0f249629fcd",
   "metadata": {},
   "outputs": [],
   "source": [
    "initial_state = 0.5 * np.array([1] * 4)\n",
    "brute_force_unitary = (-1j*Delta*args_dict['swap_duration']*J_z).expm() * iswap(args_dict['t_start_swap'], args_dict['swap_angle']) * (1j*Delta*args_dict['swap_duration']*J_z).expm()"
   ]
  },
  {
   "cell_type": "code",
   "execution_count": 18,
   "id": "88664553-3848-4da4-8d82-f775175493d7",
   "metadata": {},
   "outputs": [
    {
     "data": {
      "text/plain": [
       "array([ 0.5       +0.j       , -0.42216396+0.2679134j,\n",
       "        0.42216396+0.2679134j,  0.5       +0.j       ])"
      ]
     },
     "execution_count": 18,
     "metadata": {},
     "output_type": "execute_result"
    }
   ],
   "source": [
    "brute_force_unitary * initial_state"
   ]
  },
  {
   "cell_type": "code",
   "execution_count": 19,
   "id": "04e639ba-93ef-4f79-ad52-7a3dd306334f",
   "metadata": {},
   "outputs": [
    {
     "data": {
      "text/plain": [
       "array([ 0.        +0.j       , -0.42216396+0.2679134j,\n",
       "        0.42216396+0.2679134j,  0.        +0.j       ])"
      ]
     },
     "execution_count": 19,
     "metadata": {},
     "output_type": "execute_result"
    }
   ],
   "source": [
    "# explicit calculation of the unitary\n",
    "t1 = args_dict['t_start_swap']\n",
    "t2 = args_dict['swap_duration'] + args_dict['t_start_swap']\n",
    "angle = args_dict['swap_angle']\n",
    "unitary = qp.qeye([2, 2]) * np.cos(angle/2) -1j * (J_plus * np.exp(1j*Delta*(t2)) + J_minus * np.exp(-1j*Delta*(t2))) * np.sin(angle/2)\n",
    "unitary * initial_state"
   ]
  },
  {
   "cell_type": "markdown",
   "id": "f7530641-8b18-42bb-842d-1a831bd577ab",
   "metadata": {},
   "source": [
    "We see that the unitary is given by (TODO: Fix identity operator!!!):\n",
    "\n",
    "$$\n",
    "U_{\\mathrm{iSWAP}}(t_1, t_2, \\theta) = I\\cos(\\theta/2) -i(J_+e^{i\\Delta t_2} + J_- e^{-i\\Delta t_2})\\sin(\\theta/2)\n",
    "$$\n",
    "\n",
    "This explicitly depends on the time, and interestingly enough on the end time only!"
   ]
  },
  {
   "cell_type": "markdown",
   "id": "8c46a2ab-98d4-42e0-b3d2-3d9686b99558",
   "metadata": {},
   "source": [
    "## Appendix: Does the analytical derivation for the exponent of a Pauli matrix also give us the abrupt pi/2 phase jumps?\n",
    "\n",
    "The answer is YES."
   ]
  },
  {
   "cell_type": "code",
   "execution_count": null,
   "id": "b2952067-6339-4380-85cf-26e1bff00a82",
   "metadata": {},
   "outputs": [],
   "source": [
    "sx = 0.1*qp.sigmax()\n",
    "psis0 = qp.fock(2)\n",
    "sols = qp.sesolve(0.5*sx, psis0, tvec)"
   ]
  },
  {
   "cell_type": "code",
   "execution_count": null,
   "id": "70b41422-6f05-4d0b-ae69-8f1961ec2a55",
   "metadata": {},
   "outputs": [],
   "source": [
    "fig, ax = plt.subplots(2, 1, sharex='all')\n",
    "for i in range(2):\n",
    "    ax[0].plot(tvec, [np.squeeze(np.abs(s[i])**2) for s in sols.states])\n",
    "    ax[1].plot(tvec, np.unwrap(np.squeeze([np.angle(s[i]) for s in sols.states]))/np.pi)\n",
    "ax[0].set_title('|psi|^2 using sesolve')\n",
    "ax[1].set_title('angle|psi| using sesolve')"
   ]
  },
  {
   "cell_type": "code",
   "execution_count": null,
   "id": "3c8f6bcc-eaa0-4ccf-806e-b410040e7183",
   "metadata": {},
   "outputs": [],
   "source": [
    "mats = np.array([(-1j*0.05*t*qp.sigmax()).expm() for t in tvec])"
   ]
  },
  {
   "cell_type": "code",
   "execution_count": null,
   "id": "4921a158-6137-468e-a6a4-a943af17948a",
   "metadata": {},
   "outputs": [],
   "source": [
    "tevo = mats @ np.array([[1], [0]])\n",
    "fig, ax = plt.subplots(2, 1, sharex='all')\n",
    "for i in range(2):\n",
    "    ax[0].plot(tvec, [np.squeeze(np.abs(s[i])**2) for s in tevo])\n",
    "    ax[1].plot(tvec, np.unwrap(np.squeeze([np.angle(s[i]) for s in tevo]))/np.pi)\n",
    "ax[0].set_title('|psi|^2 using matrix exp')\n",
    "ax[1].set_title('angle|psi| using matrix exp')"
   ]
  },
  {
   "cell_type": "code",
   "execution_count": null,
   "id": "b7f992c8-6ca3-4f0e-b130-c2c8be8dbd71",
   "metadata": {},
   "outputs": [],
   "source": []
  }
 ],
 "metadata": {
  "kernelspec": {
   "display_name": "Python 3",
   "language": "python",
   "name": "python3"
  },
  "language_info": {
   "codemirror_mode": {
    "name": "ipython",
    "version": 3
   },
   "file_extension": ".py",
   "mimetype": "text/x-python",
   "name": "python",
   "nbconvert_exporter": "python",
   "pygments_lexer": "ipython3",
   "version": "3.9.1"
  }
 },
 "nbformat": 4,
 "nbformat_minor": 5
}
