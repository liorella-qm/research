{
 "cells": [
  {
   "cell_type": "code",
   "execution_count": 1,
   "id": "cordless-beijing",
   "metadata": {},
   "outputs": [],
   "source": [
    "import numpy as np\n",
    "from matplotlib import pyplot as plt\n",
    "import stim\n",
    "\n",
    "from stim_lib.scheduled_circuit import get_amplitude_damping_probs"
   ]
  },
  {
   "cell_type": "code",
   "execution_count": 2,
   "id": "insured-duration",
   "metadata": {},
   "outputs": [],
   "source": [
    "channels = [\"I\", \"Z\", \"RZ\"]"
   ]
  },
  {
   "cell_type": "code",
   "execution_count": 3,
   "id": "homeless-legend",
   "metadata": {},
   "outputs": [],
   "source": [
    "t1 = 15e3\n",
    "durations = np.arange(1000, 20000, 1000)\n",
    "probs = []\n",
    "n_shots = 1000\n",
    "for duration in durations:\n",
    "    prob = 0\n",
    "    p_I, p_Z, p_Rz = get_amplitude_damping_probs(duration, t1)\n",
    "    \n",
    "    _probs = np.array([p_I, abs(p_Z), p_Rz])\n",
    "    _w = sum(_probs)\n",
    "    _probs /=  _w\n",
    "    for _ in range(n_shots):\n",
    "        circ = stim.Circuit()\n",
    "        circ.append_operation(\"X\", [0])\n",
    "        num = np.random.choice(3, 1, p=_probs)[0]\n",
    "        if num != 0:\n",
    "            circ.append_operation(channels[num], [0])\n",
    "        circ.append_operation(\"M\", [0])\n",
    "        sampler = circ.compile_sampler()\n",
    "        res = sampler.sample(shots=1)[0][0]\n",
    "        if num == 1:\n",
    "            prob -= res*_w\n",
    "        else:\n",
    "            prob += res*_w\n",
    "    probs.append(prob/n_shots)     "
   ]
  },
  {
   "cell_type": "code",
   "execution_count": 4,
   "id": "global-tractor",
   "metadata": {},
   "outputs": [
    {
     "data": {
      "text/plain": [
       "[<matplotlib.lines.Line2D at 0x7f404ead3490>]"
      ]
     },
     "execution_count": 4,
     "metadata": {},
     "output_type": "execute_result"
    },
    {
     "data": {
      "image/png": "[encoded data removed]",
      "text/plain": [
       "<Figure size 432x288 with 1 Axes>"
      ]
     },
     "metadata": {
      "needs_background": "light"
     },
     "output_type": "display_data"
    }
   ],
   "source": [
    "plt.plot(durations, probs, 'o')\n",
    "plt.plot(durations, np.exp(-durations/t1))"
   ]
  },
  {
   "cell_type": "code",
   "execution_count": null,
   "id": "higher-jefferson",
   "metadata": {},
   "outputs": [],
   "source": []
  }
 ],
 "metadata": {
  "@webio": {
   "lastCommId": null,
   "lastKernelId": null
  },
  "kernelspec": {
   "display_name": "Python 3 (ipykernel)",
   "language": "python",
   "name": "python3"
  },
  "language_info": {
   "codemirror_mode": {
    "name": "ipython",
    "version": 3
   },
   "file_extension": ".py",
   "mimetype": "text/x-python",
   "name": "python",
   "nbconvert_exporter": "python",
   "pygments_lexer": "ipython3",
   "version": "3.8.10"
  }
 },
 "nbformat": 4,
 "nbformat_minor": 5
}
