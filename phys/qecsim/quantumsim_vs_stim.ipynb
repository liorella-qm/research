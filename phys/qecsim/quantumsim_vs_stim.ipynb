{
 "cells": [
  {
   "cell_type": "code",
   "execution_count": 1,
   "id": "accessible-campbell",
   "metadata": {},
   "outputs": [],
   "source": [
    "import numpy as np\n",
    "import copy\n",
    "import itertools\n",
    "\n",
    "from qec_generator import CircuitParams\n",
    "from simulate_qec_rounds_stim import experiment_run, monte_carlo_experiment_run\n",
    "from stim_lib.scheduled_circuit import generate_scheduled, get_pauli_probs\n",
    "\n",
    "from quantumsim import circuit, ptm, sparsedm"
   ]
  },
  {
   "cell_type": "code",
   "execution_count": 2,
   "id": "prepared-solid",
   "metadata": {},
   "outputs": [],
   "source": [
    "cparams = CircuitParams(t1=15e3,\n",
    "                        t2=19e3,\n",
    "                        single_qubit_gate_duration=14,\n",
    "                        two_qubit_gate_duration=26,\n",
    "                        single_qubit_depolarization_rate=0.0,#1.1e-3,\n",
    "                        two_qubit_depolarization_rate=0.0,#6.6e-3,\n",
    "                        meas_duration=600,\n",
    "                        reset_duration=0,\n",
    "                        reset_latency=40,\n",
    "                        meas_induced_dephasing_enhancement=3)"
   ]
  },
  {
   "cell_type": "code",
   "execution_count": 3,
   "id": "included-scholar",
   "metadata": {},
   "outputs": [
    {
     "name": "stdout",
     "output_type": "stream",
     "text": [
      "0.9545\n"
     ]
    }
   ],
   "source": [
    "task = 'surface_code:rotated_memory_z'  # looks ok\n",
    "distance = 2\n",
    "rounds = 1\n",
    "reset_strategy = 'AR'\n",
    "\n",
    "circ, cont, _ = generate_scheduled(\n",
    "    code_task='surface_code:rotated_memory_z',  # looks ok\n",
    "    distance=distance,\n",
    "    rounds=rounds,\n",
    "    params=cparams,\n",
    "    disable_ancilla_reset=False,\n",
    "    separate_gate_errors=False,\n",
    "    meas_induced_dephasing_enhancement=False)\n",
    "res1 = experiment_run(circ, cont, shots=2000, reset_strategy=reset_strategy)\n",
    "\n",
    "print(res1)"
   ]
  },
  {
   "cell_type": "code",
   "execution_count": 4,
   "id": "cross-england",
   "metadata": {},
   "outputs": [
    {
     "name": "stdout",
     "output_type": "stream",
     "text": [
      "0.45872127884981284\n"
     ]
    }
   ],
   "source": [
    "res2 = monte_carlo_experiment_run(task, distance, rounds, cparams,\n",
    "                                  shots=2000, reset_strategy=reset_strategy)\n",
    "print(res2)"
   ]
  },
  {
   "cell_type": "markdown",
   "id": "black-vietnamese",
   "metadata": {},
   "source": [
    "## Implementation in quantumsim"
   ]
  },
  {
   "cell_type": "code",
   "execution_count": 5,
   "id": "weird-butter",
   "metadata": {},
   "outputs": [
    {
     "data": {
      "text/plain": [
       "stim.Circuit('''\n",
       "    QUBIT_COORDS(1, 1) 1\n",
       "    QUBIT_COORDS(2, 0) 2\n",
       "    QUBIT_COORDS(3, 1) 3\n",
       "    QUBIT_COORDS(1, 3) 6\n",
       "    QUBIT_COORDS(2, 2) 7\n",
       "    QUBIT_COORDS(3, 3) 8\n",
       "    QUBIT_COORDS(2, 4) 12\n",
       "    R 1 3 6 8 2 7 12\n",
       "    PAULI_CHANNEL_1(0.000665779, 0.000665779, 0.000385746)\n",
       "    TICK\n",
       "    H 2 12\n",
       "    PAULI_CHANNEL_1(0.000233224, 0.000233224, 0.000135061) 1 3 6 7 8\n",
       "    TICK\n",
       "    CX 2 3 8 7\n",
       "    PAULI_CHANNEL_1(0.000432958, 0.000432958, 0.000250785) 1 6 12\n",
       "    TICK\n",
       "    CX 2 1 3 7\n",
       "    PAULI_CHANNEL_1(0.000432958, 0.000432958, 0.000250785) 6 8 12\n",
       "    TICK\n",
       "    CX 12 8 6 7\n",
       "    PAULI_CHANNEL_1(0.000432958, 0.000432958, 0.000250785) 1 2 3\n",
       "    TICK\n",
       "    CX 12 6 1 7\n",
       "    PAULI_CHANNEL_1(0.000432958, 0.000432958, 0.000250785) 2 3 8\n",
       "    TICK\n",
       "    H 2 12\n",
       "    PAULI_CHANNEL_1(0.000233224, 0.000233224, 0.000135061) 1 3 6 7 8\n",
       "    TICK\n",
       "    MR 2 7 12\n",
       "    PAULI_CHANNEL_1(0.0104423, 0.0104423, 0.00611929) 1 3 6 8\n",
       "    DETECTOR(2, 2, 0) rec[-2]\n",
       "    M 1 3 6 8\n",
       "    PAULI_CHANNEL_1(0.00980264, 0.00980264, 0.00574013) 2 7 12\n",
       "    DETECTOR(2, 2, 1) rec[-1] rec[-2] rec[-3] rec[-4] rec[-6]\n",
       "    OBSERVABLE_INCLUDE(0) rec[-3] rec[-4]\n",
       "''')"
      ]
     },
     "execution_count": 5,
     "metadata": {},
     "output_type": "execute_result"
    }
   ],
   "source": [
    "circ"
   ]
  },
  {
   "cell_type": "markdown",
   "id": "excellent-musician",
   "metadata": {},
   "source": [
    " ## detector indices\n",
    " \n",
    " 1   2   3   6   7   8   12\n",
    " \n",
    " \n",
    "-7  -6  -5  -4  -3  -2   -1"
   ]
  },
  {
   "cell_type": "code",
   "execution_count": 6,
   "id": "express-shanghai",
   "metadata": {},
   "outputs": [],
   "source": [
    "def get_probs(duration, t1, t2):\n",
    "    gamma = 1 - np.exp(-duration/t1)\n",
    "    return gamma, (1 - gamma)*(1 - np.exp(-2*duration/t2))  \n",
    "\n",
    "def get_kraus_ops(duration, t1, t2):\n",
    "    ## see Eqn 11 in https://arxiv.org/pdf/1305.2021.pdf\n",
    "    gamma, lbda = get_probs(duration, t1, t2)\n",
    "    E1 = np.array([[1, 0],[0, np.sqrt(1 - gamma - lbda)]])\n",
    "    E2 = np.array([[0, np.sqrt(gamma)],[0, 0]])\n",
    "    E3 = np.array([[0, 0],[0, np.sqrt(lbda)]])\n",
    "    return E1, E2, E3"
   ]
  },
  {
   "cell_type": "code",
   "execution_count": 7,
   "id": "macro-novel",
   "metadata": {},
   "outputs": [],
   "source": [
    "def t1t2_ptm(duration, t1, t2):\n",
    "    ops = get_kraus_ops(duration, t1, t2)\n",
    "    _ptm = 0\n",
    "    for op in ops:\n",
    "        _ptm += ptm.single_kraus_to_ptm(op)\n",
    "    return _ptm"
   ]
  },
  {
   "cell_type": "code",
   "execution_count": 8,
   "id": "elementary-coalition",
   "metadata": {},
   "outputs": [],
   "source": [
    "qbit_ids = [1, 2, 3, 6, 7, 8, 12]\n",
    "qbits = [str(i) for i in qbit_ids]\n",
    "cbits = [\"m\"+str(i) for i in qbit_ids]\n",
    "\n",
    "t_single = cparams.single_qubit_gate_duration\n",
    "t_double = cparams.two_qubit_gate_duration\n",
    "t_meas = cparams.meas_duration\n",
    "t_meas_reset = cparams.meas_duration + cparams.reset_duration +  cparams.reset_latency\n",
    "\n",
    "reset_noise = t1t2_ptm(cparams.reset_duration + cparams.reset_latency,\n",
    "                                    cparams.t1, cparams.t2)\n",
    "idle_noise_1qb_gate = t1t2_ptm(t_single, cparams.t1, cparams.t2)\n",
    "idle_noise_2qb_gate = t1t2_ptm(t_double, cparams.t1, cparams.t2)\n",
    "meas_noise = t1t2_ptm(t_meas, cparams.t1, cparams.t2)\n",
    "meas_reset_noise = t1t2_ptm(t_meas_reset, cparams.t1, cparams.t2)"
   ]
  },
  {
   "cell_type": "code",
   "execution_count": 19,
   "id": "checked-green",
   "metadata": {},
   "outputs": [
    {
     "name": "stdout",
     "output_type": "stream",
     "text": [
      "{'m1': 0, 'm2': 0, 'm3': 0, 'm6': 0, 'm7': 0, 'm8': 0, 'm12': 0, '2': 0, '7': 0, '12': 0}\n",
      "{'m1': 0, 'm2': 0, 'm3': 0, 'm6': 0, 'm7': 0, 'm8': 0, 'm12': 0, '8': 0, '6': 0, '3': 0, '1': 0}\n"
     ]
    }
   ],
   "source": [
    "t_start = 0\n",
    "\n",
    "sampler = circuit.BiasedSampler(0, 1, seed=42)\n",
    "\n",
    "c = circuit.Circuit()\n",
    "state = sparsedm.SparseDM(qbits+cbits)\n",
    "\n",
    "for i in qbits:\n",
    "    c.add_qubit(circuit.Qubit(i))\n",
    "for i in cbits:\n",
    "    c.add_qubit(circuit.ClassicalBit(i))\n",
    "    \n",
    "for qb in qbits:\n",
    "    c.add_gate(circuit.SinglePTMGate(qb, t_start, reset_noise))\n",
    "\n",
    "for qb in [\"2\", \"12\"]:\n",
    "    c.add_gate(circuit.Hadamard(qb, t_start + t_single/2))\n",
    "for qb in [\"1\", \"3\", \"6\", \"7\", \"8\"]:\n",
    "    c.add_gate(circuit.SinglePTMGate(qb, t_start+ t_single/2,\n",
    "                                     idle_noise_1qb_gate))  \n",
    "t_start += t_single\n",
    "\n",
    "for qbs in [(\"2\", \"3\"), (\"8\", \"7\")]:\n",
    "    c.add_gate(circuit.CNOT(qbs[0], qbs[1], t_start+t_double/2))\n",
    "for qb in [\"1\", \"6\", \"12\"]:\n",
    "    c.add_gate(circuit.SinglePTMGate(qb, t_start+t_double/2,\n",
    "                                     idle_noise_2qb_gate\n",
    "                                    ))\n",
    "t_start += t_double\n",
    "\n",
    "for qbs in [(\"2\", \"1\"), (\"3\", \"7\")]:\n",
    "    c.add_gate(circuit.CNOT(qbs[0], qbs[1], t_start+t_double/2))\n",
    "for qb in [\"6\", \"8\", \"12\"]:\n",
    "    c.add_gate(circuit.SinglePTMGate(qb, t_start+t_double/2,\n",
    "                                     idle_noise_2qb_gate\n",
    "                                    ))\n",
    "t_start += t_double\n",
    "\n",
    "\n",
    "for qbs in [(\"12\", \"8\"), (\"6\", \"7\")]:\n",
    "    c.add_gate(circuit.CNOT(qbs[0], qbs[1], t_start+t_double/2))    \n",
    "for qb in [\"1\", \"2\", \"3\"]:\n",
    "    c.add_gate(circuit.SinglePTMGate(qb, t_start+t_double/2,\n",
    "                                     idle_noise_2qb_gate\n",
    "                                    ))\n",
    "t_start += t_double\n",
    "\n",
    "for qbs in [(\"12\", \"6\"), (\"1\", \"7\")]:\n",
    "    c.add_gate(circuit.CNOT(qbs[0], qbs[1], t_start+t_double/2))\n",
    "for qb in [\"2\", \"3\", \"8\"]:\n",
    "    c.add_gate(circuit.SinglePTMGate(qb, t_start+t_double/2,\n",
    "                                     idle_noise_2qb_gate\n",
    "                                    ))\n",
    "t_start += t_double\n",
    "\n",
    "for qb in [\"2\", \"12\"]:\n",
    "    c.add_gate(circuit.Hadamard(qb, t_start + t_single/2))\n",
    "for qb in [\"1\", \"3\", \"6\", \"7\", \"8\"]:\n",
    "    c.add_gate(circuit.SinglePTMGate(qb, t_start+ t_single/2,\n",
    "                                     idle_noise_1qb_gate\n",
    "                                     ))  \n",
    "t_start += t_single\n",
    "\n",
    "for qb in [\"2\", \"7\", \"12\"]:\n",
    "    c.add_gate(circuit.Measurement(qb, \n",
    "                                   t_start + t_meas_reset/2,\n",
    "                                   sampler = sampler,\n",
    "                                   output_bit = 'm'+qb))\n",
    "for qb in [\"1\", \"3\", \"6\", \"8\"]:\n",
    "    c.add_gate(circuit.SinglePTMGate(qb,\n",
    "                                     t_start + t_meas_reset/2,\n",
    "                                     meas_reset_noise))    \n",
    "    \n",
    "c.order()\n",
    "c.apply_to(state)\n",
    "print(state.classical)\n",
    "\n",
    "c.gates = []#empty the gates\n",
    "\n",
    "for qb in [\"2\", \"7\", \"12\"]:\n",
    "    if state.classical['m'+qb]:\n",
    "        c.add_gate(circuit.X(qb, t_start + t_meas_reset/2 + 0.1))\n",
    "                      \n",
    "                                   \n",
    "t_start += t_meas_reset\n",
    "\n",
    "\n",
    "for qb in [\"1\", \"3\", \"6\", \"8\"]:\n",
    "    c.add_gate(circuit.Measurement(qb, \n",
    "                                   t_start + t_meas/2,\n",
    "                                   sampler = sampler,\n",
    "                                   output_bit = 'm'+qb))\n",
    "for qb in [\"2\", \"7\", \"12\"]:\n",
    "    c.add_gate(circuit.SinglePTMGate(qb,\n",
    "                                    t_start + t_meas/2,\n",
    "                                    meas_noise))\n",
    "t_start += t_meas\n",
    "\n",
    "c.order() \n",
    "c.apply_to(state)\n",
    "\n",
    "print(state.classical)"
   ]
  },
  {
   "cell_type": "code",
   "execution_count": null,
   "id": "prepared-chair",
   "metadata": {},
   "outputs": [],
   "source": []
  }
 ],
 "metadata": {
  "@webio": {
   "lastCommId": null,
   "lastKernelId": null
  },
  "kernelspec": {
   "display_name": "Python 3 (ipykernel)",
   "language": "python",
   "name": "python3"
  },
  "language_info": {
   "codemirror_mode": {
    "name": "ipython",
    "version": 3
   },
   "file_extension": ".py",
   "mimetype": "text/x-python",
   "name": "python",
   "nbconvert_exporter": "python",
   "pygments_lexer": "ipython3",
   "version": "3.8.10"
  }
 },
 "nbformat": 4,
 "nbformat_minor": 5
}
