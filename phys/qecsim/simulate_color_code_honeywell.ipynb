{
 "cells": [
  {
   "cell_type": "code",
   "execution_count": 2,
   "id": "dc511b29-51e7-45b5-9eab-c27b271d67bd",
   "metadata": {},
   "outputs": [],
   "source": [
    "import numpy as np\n",
    "from matplotlib import pyplot as plt\n",
    "import matplotlib\n",
    "from tqdm import tqdm\n",
    "\n",
    "from qec_generator import CircuitParams\n",
    "from simulate_qec_rounds_stim import experiment_run\n",
    "from stim_lib.scheduled_circuit import generate_scheduled\n",
    "from scipy.optimize import curve_fit\n",
    "import stim"
   ]
  },
  {
   "cell_type": "code",
   "execution_count": 236,
   "id": "350d7da9-ce15-4df4-ad25-7fac151ee98f",
   "metadata": {},
   "outputs": [],
   "source": [
    "first_flag_circ = stim.Circuit('''\n",
    "\n",
    "\n",
    "    H 8\n",
    "    CNOT 8 4\n",
    "    CNOT 3 10\n",
    "    CNOT 6 9\n",
    "    CNOT 8 9  # 1st flag\n",
    "    CNOT 8 1\n",
    "    CNOT 4 10\n",
    "    CNOT 5 9\n",
    "        # inject error\n",
    "    X 8\n",
    "    \n",
    "    CNOT 8 2\n",
    "    CNOT 7 10\n",
    "    CNOT 3 9\n",
    "    CNOT 8 10  # second flag\n",
    "    CNOT 8 3\n",
    "    CNOT 6 10\n",
    "    CNOT 2 9\n",
    "    H 8\n",
    "    MR 8 9 10\n",
    "''')\n",
    "\n",
    "second_flag_circ = stim.Circuit('''\n",
    "    H 9 10\n",
    "    CNOT 4 8\n",
    "    CNOT 10 3\n",
    "    CNOT 9 6\n",
    "    CNOT 9 8  # 1st flag\n",
    "    CNOT 1 8\n",
    "    CNOT 10 4\n",
    "    CNOT 9 5\n",
    "            # inject error\n",
    "    Z 8\n",
    "    CNOT 2 8\n",
    "    CNOT 10 7\n",
    "    CNOT 9 3\n",
    "    CNOT 10 8  # 2nd flag\n",
    "    CNOT 3 8\n",
    "    CNOT 10 6\n",
    "    CNOT 9 2\n",
    "    H 9 10\n",
    "    MR 8 9 10\n",
    "''')\n",
    "\n",
    "unflagged = stim.Circuit('''\n",
    "\n",
    "    \n",
    "    H 8 9 10\n",
    "    CNOT 8 1 8 2 8 3 8 4\n",
    "    CNOT 9 2 9 3 9 5 9 6\n",
    "    CNOT 10 3 10 4 10 6 10 7\n",
    "    H 8 9 10\n",
    "    MR 8 9 10\n",
    "    CNOT 1 8 2 8 3 8 4 8\n",
    "    CNOT 2 9 3 9 5 9 6 9\n",
    "    CNOT 3 10 4 10 6 10 7 10\n",
    "    MR 8 9 10\n",
    "''')\n",
    "\n",
    "encoding = stim.Circuit('''\n",
    "    R 1 2 3 4 5 6 7 8 9 10\n",
    "    H 1 5 7\n",
    "    CNOT 1 2 5 6\n",
    "    CNOT 7 4\n",
    "    CNOT 7 6 5 3\n",
    "    CNOT 1 4\n",
    "    CNOT 5 2\n",
    "    CNOT 4 3\n",
    "    CNOT 2 8\n",
    "    CNOT 4 8\n",
    "    CNOT 6 8\n",
    "    MR 8\n",
    "''')\n",
    "\n",
    "measure = stim.Circuit('''\n",
    "    M 1 2 3 4 5 6 7\n",
    "''')"
   ]
  },
  {
   "cell_type": "code",
   "execution_count": 237,
   "id": "48eee309-d6f2-41cf-a63d-bc84b2a673d0",
   "metadata": {},
   "outputs": [
    {
     "name": "stdout",
     "output_type": "stream",
     "text": [
      "flagged [0 1 1]\n",
      "unflagged [0 0 1 0 0 0]\n"
     ]
    }
   ],
   "source": [
    "sim = stim.TableauSimulator()\n",
    "sim.do(encoding)\n",
    "sim.do(second_flag_circ)\n",
    "sim.do(unflagged)\n",
    "rec = np.array(sim.current_measurement_record()).astype(int)\n",
    "print('flagged', rec[1:4])\n",
    "print('unflagged', rec[4:])"
   ]
  },
  {
   "cell_type": "code",
   "execution_count": 238,
   "id": "e6d94550-816b-4369-8a27-6ef8c3e465bc",
   "metadata": {},
   "outputs": [],
   "source": [
    "def prep_zero():\n",
    "    sim = stim.TableauSimulator()\n",
    "    sim.do(encoding)\n",
    "    return sim\n",
    "\n",
    "\n",
    "def meas_flagging_syndromes_xzz(state):\n",
    "    state.do(first_flag_circ)\n",
    "    yyy = tuple(np.array(state.current_measurement_record())[-3:].astype(np.uint8))\n",
    "    return yyy\n",
    "\n",
    "\n",
    "def meas_flagging_syndromes_zxx(state):\n",
    "    state.do(second_flag_circ)\n",
    "    return tuple(np.array(state.current_measurement_record())[-3:].astype(np.uint8))\n",
    "\n",
    "\n",
    "def meas_six_syndromes(state):\n",
    "    state.do(unflagged)\n",
    "    rec = np.array(state.current_measurement_record())[-6:].astype(np.uint8)\n",
    "    return rec[-6:-3], rec[-3:]\n",
    "\n",
    "\n",
    "def meas_z_data(state):\n",
    "    state.do(measure)\n",
    "    return np.array(state.current_measurement_record())[-7:].astype(np.uint8)"
   ]
  },
  {
   "cell_type": "code",
   "execution_count": 239,
   "id": "1342dd7b-08c1-40ab-a469-9b26c82b8453",
   "metadata": {},
   "outputs": [],
   "source": [
    "# note: we only test here the |0> state\n",
    "\n",
    "def qec_cycles_exp (num_cycles, shots):\n",
    "    runs = 0\n",
    "    success = 0\n",
    "    for i in range (shots):\n",
    "\n",
    "        state = prep_zero()\n",
    "        last_syndromes_x = np.zeros(3, dtype=np.uint8)\n",
    "        last_syndromes_z = np.zeros(3, dtype=np.uint8)\n",
    "        pf = np.zeros(2, dtype=np.uint8)\n",
    "\n",
    "        for j in range (num_cycles) :\n",
    "            state, last_syndromes_x, last_syndromes_z, pf = qec_cycle(state, last_syndromes_x, last_syndromes_z, pf)\n",
    "\n",
    "        meas_output = logical_meas(state, last_syndromes_z)\n",
    "        # Determine if measurement result was a s expected. rf so, upade success count: .\n",
    "        expected_outcome = expected_result(meas_output)\n",
    "        success += expected_outcome\n",
    "        runs += 1\n",
    "\n",
    "    return runs, success\n",
    "\n",
    "\n",
    "def qec_cycle(state, last_syndrome_x, last_syndrome_z, pf):\n",
    "    flag_diff_x = np.zeros(3, dtype=np.uint8)\n",
    "    flag_diff_z = np.zeros(3, dtype=np.uint8)\n",
    "    fx0, fz1, fz2 = meas_flagging_syndromes_xzz(state)\n",
    "    \n",
    "    flag_diff_x[0] = fx0 ^ last_syndrome_x[0]\n",
    "    flag_diff_z[1] = fz1 ^ last_syndrome_z[1]\n",
    "    flag_diff_z[2] = fz2 ^ last_syndrome_z[2]\n",
    "    \n",
    "    if np.all(flag_diff_x == [0] * 3) and np.all(flag_diff_z == [0] * 3):\n",
    "        fz0, fx1, fx2 = meas_flagging_syndromes_zxx(state)\n",
    "    \n",
    "        flag_diff_z[0] = (fz0 + last_syndrome_z[0]) % 2\n",
    "        flag_diff_x[1] = (fx1 + last_syndrome_x[1]) % 2\n",
    "        flag_diff_x[2] = (fx2 + last_syndrome_x[2]) % 2\n",
    "    \n",
    "    if np.any(flag_diff_x != [0] * 3) or np.any(flag_diff_z != [0] * 3):\n",
    "        syndromes_x, syndromes_z = meas_six_syndromes(state)\n",
    "        syndrome_diff_x = (syndromes_x + last_syndrome_x) % 2\n",
    "        syndrome_diff_z = (syndromes_z + last_syndrome_z) % 2\n",
    "        pf[0] = (pf[0] + decoder_2d(syndrome_diff_x) + decoder_flag_update(syndrome_diff_x, flag_diff_x))\n",
    "        pf[1] = (pf[1] + decoder_2d(syndrome_diff_z) + decoder_flag_update(syndrome_diff_z, flag_diff_z))\n",
    "        \n",
    "        last_syndrome_x = syndromes_x\n",
    "        last_syndrome_z = syndromes_z\n",
    "        \n",
    "    return state, last_syndrome_x, last_syndrome_z, pf\n",
    "\n",
    "\n",
    "def logical_meas(state, last_syndrome_z):\n",
    "    m = meas_z_data(state)\n",
    "    meas_output = np.sum(m[4:7]) % 2\n",
    "    \n",
    "    syndromes = (np.array([\n",
    "        [1, 1, 1, 1, 0, 0, 0],\n",
    "        [0, 1, 1, 0, 1, 1, 0],\n",
    "        [0, 0, 1, 1, 0, 1, 1]\n",
    "    ]) @ m) % 2\n",
    "    \n",
    "    syndrome_diff = (syndromes + last_syndrome_z) % 2\n",
    "    final_correction = decoder_2d(syndrome_diff)\n",
    "    return (meas_output + final_correction) % 2\n",
    "\n",
    "\n",
    "def expected_result(meas_output):\n",
    "    return (1 + meas_output) % 2\n",
    "\n",
    "\n",
    "\n",
    "def decoder_2d(syndrome_diff):\n",
    "    bad_syndromes = [[0, 1, 0], [0, 1, 1], [0, 0, 1]]\n",
    "    if syndrome_diff.tolist() in bad_syndromes:\n",
    "        return 1\n",
    "    return 0\n",
    "    \n",
    "    \n",
    "def decoder_flag_update(syndrome_diff, flag_diff):\n",
    "    if np.all(flag_diff == [1, 0, 0]) and np.all(syndrome_diff == [0, 1, 0]):\n",
    "        return 1\n",
    "    if np.all(flag_diff == [1, 0, 0]) and np.all(syndrome_diff == [0, 0, 1]):\n",
    "        return 1    \n",
    "    if np.all(flag_diff == [0, 1, 1]) and np.all(syndrome_diff == [0, 0, 1]):\n",
    "        return 1\n",
    "    \n",
    "    return 0\n",
    "    "
   ]
  },
  {
   "cell_type": "code",
   "execution_count": 241,
   "id": "bdc77182-ab68-4e4d-bfde-c4b2063045fb",
   "metadata": {},
   "outputs": [
    {
     "name": "stdout",
     "output_type": "stream",
     "text": [
      "(0, 1, 1)\n",
      "(0, 1, 0)\n",
      "(0, 1, 1)\n",
      "(0, 1, 0)\n",
      "(0, 1, 1)\n",
      "(0, 1, 0)\n",
      "(0, 1, 1)\n",
      "(0, 1, 0)\n",
      "(0, 1, 1)\n",
      "(0, 1, 0)\n"
     ]
    },
    {
     "data": {
      "text/plain": [
       "(1, 1.0)"
      ]
     },
     "execution_count": 241,
     "metadata": {},
     "output_type": "execute_result"
    }
   ],
   "source": [
    "qec_cycles_exp(10, 1)"
   ]
  },
  {
   "cell_type": "code",
   "execution_count": 204,
   "id": "fb557759-bfa9-49f7-8467-097da5e7dd84",
   "metadata": {},
   "outputs": [],
   "source": [
    "uu1, uu2 = tuple(np.array([1, 2]))"
   ]
  },
  {
   "cell_type": "code",
   "execution_count": 205,
   "id": "74cf847a-8edd-4801-a7b8-a42c6d78c554",
   "metadata": {},
   "outputs": [
    {
     "data": {
      "text/plain": [
       "1"
      ]
     },
     "execution_count": 205,
     "metadata": {},
     "output_type": "execute_result"
    }
   ],
   "source": [
    "uu1"
   ]
  },
  {
   "cell_type": "code",
   "execution_count": null,
   "id": "115fa6f8-3a9a-4090-9cac-41146203c4ea",
   "metadata": {},
   "outputs": [],
   "source": []
  }
 ],
 "metadata": {
  "kernelspec": {
   "display_name": "Python 3",
   "language": "python",
   "name": "python3"
  },
  "language_info": {
   "codemirror_mode": {
    "name": "ipython",
    "version": 3
   },
   "file_extension": ".py",
   "mimetype": "text/x-python",
   "name": "python",
   "nbconvert_exporter": "python",
   "pygments_lexer": "ipython3",
   "version": "3.9.1"
  }
 },
 "nbformat": 4,
 "nbformat_minor": 5
}
