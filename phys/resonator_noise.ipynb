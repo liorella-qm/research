{
 "cells": [
  {
   "cell_type": "markdown",
   "metadata": {},
   "source": [
    "# Number of photons in a resonator and T2E given drive and noise input powers\n",
    "\n",
    "We ask the following questions:\n",
    "\n",
    "1. If we have a noise with spectral density $N_0$ (units are dBm/Hz) incident on a readout resonator, what is the number of photons in the resonator?\n",
    "2. If we have a coherent drive with power $P$ and frequency $\\omega_d$ incident on a readout resonator, what is the number of photons?\n",
    "3. In both cases above, what is the dephasing rate of a qubit coupled to the resonator?\n",
    "\n",
    "Important sources of information:\n",
    "\n",
    "1. A paper showing that the resonator noise spectrum can be directly measured with a spin locking technique, both for coherent and thermal noise sources: [Distinguishing coherent and thermal photon noise in a circuit QED system, F. Yan et al., 2018](https://arxiv.org/abs/1801.00467)\n",
    "2. A paper with a practical measurement of the dephasing and AC stark shift as a function of number of photons, contains expresssions for both [The flux qubit revisited to enhance coherence and reproducibility, F. Yan et al., 2016](https://www.nature.com/articles/ncomms12964#MOESM137)\n",
    "3. A classic paper with all derivations related to cavity noise and signal levels and input output theory: [Introduction to Quantum Noise, Measurement and Amplification, A. A. Clerk et al., 2010](https://arxiv.org/abs/0810.4729)"
   ]
  },
  {
   "cell_type": "markdown",
   "metadata": {},
   "source": [
    "## Preamble: What is the power needed to put one photon in the resonator when driving on resonance?\n",
    "\n",
    "Let's say we have a drive with power $P$ in dBm. Then at RT, in dBW (watts dB) it will be $P-30$. Then when going through the attenuation chain it will be attenuated by about 70dB, so it will reach the resonator with power \n",
    "\n",
    "$$\n",
    "P_{dBW,20mK} = P_{dBm,RT} - 100\n",
    "$$\n",
    "\n",
    "How do we convert it to number of photons? We need to divide by $\\hbar \\omega_c$, but since $h$ is very small, this means we will need to add a lot."
   ]
  },
  {
   "cell_type": "code",
   "execution_count": 44,
   "metadata": {},
   "outputs": [
    {
     "name": "stdout",
     "output_type": "stream",
     "text": [
      "-233.33650528439802\n"
     ]
    }
   ],
   "source": [
    "# what is h*fc in dB for converting from energy to photon number?\n",
    "\n",
    "fc = 7 # GHz\n",
    "h = 6.626e-34 # J*s\n",
    "\n",
    "print(10*np.log10(h*fc*1e9))"
   ]
  },
  {
   "cell_type": "markdown",
   "metadata": {},
   "source": [
    "this means that \n",
    "\n",
    "$$\n",
    "\\bar{n} = P_{dBm,RT} - 100 + 230\n",
    "$$\n",
    "\n",
    "so even a -130dBm spur on resonance will put one photon in the resonator!!! As we will see, the dephasing time is about $\\chi\\bar{n}$, so this is not tolerable, as one photon will lead to a dephasing time of about $1\\rm{\\mu sec}$."
   ]
  },
  {
   "cell_type": "markdown",
   "metadata": {},
   "source": [
    "## Question 3\n",
    "\n",
    "We have (see https://www.nature.com/articles/ncomms12964#MOESM137 eq. 5):\n",
    "\n",
    "$$\n",
    "\\Gamma_\\phi^{th} = \\frac{4\\kappa\\chi^2}{\\kappa^2 + 4\\chi^2}\\bar{n}\n",
    "$$\n",
    "where $\\chi$ is defined such that $2\\chi/2\\pi$ is the difference in freq between the e and g Lorenzians (see fig. 5a).\n",
    "\n",
    "Let's first take the parameters from this paper:\n",
    "\n"
   ]
  },
  {
   "cell_type": "code",
   "execution_count": 24,
   "metadata": {},
   "outputs": [
    {
     "name": "stdout",
     "output_type": "stream",
     "text": [
      "gamma_phi=0.05005947638179145 MHz\n",
      "dephasing time is 19.98 us\n"
     ]
    }
   ],
   "source": [
    "import numpy as np\n",
    "\n",
    "chi = 2*np.pi*0.9  # MHz\n",
    "kappa = 2*np.pi*1.5  # MHz\n",
    "nbar = 0.009\n",
    "\n",
    "gamma_phi = 4*kappa*chi**2/(kappa**2+4*chi**2)*nbar\n",
    "print(f'{gamma_phi=} MHz')\n",
    "print(f'dephasing time is {1/gamma_phi:.2f} us')\n"
   ]
  },
  {
   "cell_type": "markdown",
   "metadata": {},
   "source": [
    "## Question 1\n",
    "\n",
    "Now let's try to estimate the number of photons from the noise power. Hueristically, if we have a noise power in dBm/Hz, the number of photons should be roughly this divided by $\\hbar \\omega_c$. Let's try:"
   ]
  },
  {
   "cell_type": "code",
   "execution_count": 42,
   "metadata": {},
   "outputs": [
    {
     "name": "stdout",
     "output_type": "stream",
     "text": [
      "N0=3.98e-25 W/Hz\n",
      "N_photon=0.09 photons\n"
     ]
    }
   ],
   "source": [
    "fc = 7 # GHz\n",
    "h = 6.626e-34\n",
    "\n",
    "N0_dBmHz_RT = -144 # dBm/Hz (room temperature)\n",
    "Attenuation = -70 # dB\n",
    "N0_dBmHz = N0_dBmHz_RT + Attenuation\n",
    "\n",
    "N0 = 1e-3*10**(N0_dBmHz/10)  # W/Hz\n",
    "print(f'{N0=:.2e} W/Hz')\n",
    "N_photon = N0 / (h*fc*1e9)\n",
    "print(f'{N_photon=:.2f} photons')"
   ]
  },
  {
   "cell_type": "markdown",
   "metadata": {},
   "source": [
    "## Question 2\n",
    "\n",
    "Now let's try to estimate the number of photons from an off-resonant drive with very high power.\n",
    "\n",
    "The relation of the drive power to the number of qubits is given by the following derivation.\n",
    "\n",
    "We have an equation of motion (in freq domain), see eq. E39 here: https://arxiv.org/pdf/0810.4729.pdf\n",
    "\n",
    "$$\n",
    "-i\\omega_d a = -(\\kappa/2)a -i\\omega_c - \\sqrt{\\kappa} b\n",
    "$$\n",
    "\n",
    "We can take $b$ to be equal to the incoming photon flux (see eq. E73):\n",
    "\n",
    "$$\n",
    "b = -i \\sqrt{\\bar{\\dot{N}}} = -i \\sqrt{\\frac{P}{\\hbar \\omega}}\n",
    "$$\n",
    "\n",
    "Thus the photon number is:\n",
    "\n",
    "$$\n",
    "\\bar{n} = |a|^2 = \\frac{\\kappa}{(\\kappa/2)^2 + \\Delta^2}\\frac{P}{\\hbar\\omega_d}\n",
    "$$\n",
    "\n",
    "If the detuning is about 1GHz, and kappa is about 1MHz, then this simplifies to:\n",
    "\n",
    "$$\n",
    "\\bar{n} \\simeq \\frac{\\kappa}{\\Delta^2}\\frac{P}{\\hbar\\omega_d}\n",
    "$$\n",
    "and so this $\\frac{\\kappa}{\\Delta^2}$ prefactor is about -180+60 = -120 in dB.\n",
    "\n",
    "Putting in numbers, we get:"
   ]
  },
  {
   "cell_type": "code",
   "execution_count": 43,
   "metadata": {},
   "outputs": [
    {
     "name": "stdout",
     "output_type": "stream",
     "text": [
      "Pd_photon=2.54e+11 photons/sec\n",
      "nbar=0.0105 photons\n"
     ]
    }
   ],
   "source": [
    "fd = 9.4 # GHz\n",
    "Pd_dBm_RT = 2 # dBm\n",
    "crosstalk_loss = -20 # dB\n",
    "Pd_dBm = Pd_dBm_RT + Attenuation + crosstalk_loss\n",
    "Pd = 1e-3*10**(Pd_dBm/10)  # W\n",
    "Pd_photon = Pd / (h*fd*1e9)\n",
    "print(f'{Pd_photon=:.2e} photons/sec')\n",
    "nbar = Pd_photon * kappa * 1e6 / (4*np.pi**2*1e18*(fd - fc)**2)\n",
    "print(f'{nbar=:.4f} photons')"
   ]
  },
  {
   "cell_type": "code",
   "execution_count": null,
   "metadata": {},
   "outputs": [],
   "source": []
  }
 ],
 "metadata": {
  "kernelspec": {
   "display_name": "base",
   "language": "python",
   "name": "python3"
  },
  "language_info": {
   "codemirror_mode": {
    "name": "ipython",
    "version": 3
   },
   "file_extension": ".py",
   "mimetype": "text/x-python",
   "name": "python",
   "nbconvert_exporter": "python",
   "pygments_lexer": "ipython3",
   "version": "3.9.1"
  },
  "orig_nbformat": 4
 },
 "nbformat": 4,
 "nbformat_minor": 2
}
