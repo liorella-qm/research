{
 "cells": [
  {
   "cell_type": "code",
   "execution_count": 1,
   "id": "e4c38bc1-b29f-4420-8ef7-614ce7bd35e1",
   "metadata": {},
   "outputs": [],
   "source": [
    "from sympy import *"
   ]
  },
  {
   "cell_type": "code",
   "execution_count": 10,
   "id": "90740e62-64a1-4600-9152-36a42e2597fa",
   "metadata": {},
   "outputs": [],
   "source": [
    "x, y, t = symbols('x y t')\n",
    "a = Integral(cos(x)*exp(x),x)"
   ]
  },
  {
   "cell_type": "code",
   "execution_count": 6,
   "id": "6579a92d-56d3-420b-aeec-ea19c473e13a",
   "metadata": {},
   "outputs": [
    {
     "data": {
      "text/latex": [
       "$\\displaystyle \\frac{e^{x} \\sin{\\left(x \\right)}}{2} + \\frac{e^{x} \\cos{\\left(x \\right)}}{2}$"
      ],
      "text/plain": [
       "exp(x)*sin(x)/2 + exp(x)*cos(x)/2"
      ]
     },
     "execution_count": 6,
     "metadata": {},
     "output_type": "execute_result"
    }
   ],
   "source": [
    "a.doit()"
   ]
  },
  {
   "cell_type": "code",
   "execution_count": 7,
   "id": "c86a0f57-1dfe-425d-937e-c7e20b8d2862",
   "metadata": {},
   "outputs": [
    {
     "data": {
      "text/latex": [
       "$\\displaystyle x + 2 y$"
      ],
      "text/plain": [
       "x + 2*y"
      ]
     },
     "execution_count": 7,
     "metadata": {},
     "output_type": "execute_result"
    }
   ],
   "source": [
    "x+2*y"
   ]
  },
  {
   "cell_type": "code",
   "execution_count": 11,
   "id": "2049343f-488b-485b-9da8-0b7181d49852",
   "metadata": {},
   "outputs": [],
   "source": [
    "y=Function('y')"
   ]
  },
  {
   "cell_type": "code",
   "execution_count": 12,
   "id": "b5e4ffdf-af70-40d8-b97c-2a12c116f6e0",
   "metadata": {},
   "outputs": [
    {
     "data": {
      "text/latex": [
       "$\\displaystyle y{\\left(t \\right)} = C_{2} e^{- t} + \\left(C_{1} + \\frac{t}{2}\\right) e^{t}$"
      ],
      "text/plain": [
       "Eq(y(t), C2*exp(-t) + (C1 + t/2)*exp(t))"
      ]
     },
     "execution_count": 12,
     "metadata": {},
     "output_type": "execute_result"
    }
   ],
   "source": [
    "dsolve(Eq(y(t).diff(t,t)-y(t),exp(t)))"
   ]
  },
  {
   "cell_type": "code",
   "execution_count": 19,
   "id": "622b5627-e3bb-4814-86fc-391bb05fb05e",
   "metadata": {},
   "outputs": [],
   "source": [
    "x1 = symbols('\\phi_{eff}^I')"
   ]
  },
  {
   "cell_type": "code",
   "execution_count": 20,
   "id": "8820b7af-25f2-4e23-8b78-1db19f5916e9",
   "metadata": {},
   "outputs": [
    {
     "data": {
      "text/latex": [
       "$\\displaystyle \\phi_{eff}^I$"
      ],
      "text/plain": [
       "\\phi_{eff}^I"
      ]
     },
     "execution_count": 20,
     "metadata": {},
     "output_type": "execute_result"
    }
   ],
   "source": [
    "x1"
   ]
  },
  {
   "cell_type": "code",
   "execution_count": 21,
   "id": "2630834c-0ea5-4453-beb5-aeb626be4d59",
   "metadata": {},
   "outputs": [
    {
     "data": {
      "text/plain": [
       "sympy.core.symbol.Symbol"
      ]
     },
     "execution_count": 21,
     "metadata": {},
     "output_type": "execute_result"
    }
   ],
   "source": [
    "type(x1)"
   ]
  },
  {
   "cell_type": "code",
   "execution_count": 22,
   "id": "caeb4379-040f-4861-ac53-d1eeba49c94d",
   "metadata": {},
   "outputs": [],
   "source": [
    "expr=x+1\n",
    "x=2"
   ]
  },
  {
   "cell_type": "code",
   "execution_count": 23,
   "id": "6c85cd4e-b360-44d9-a02a-e7b653ffa031",
   "metadata": {},
   "outputs": [
    {
     "data": {
      "text/plain": [
       "int"
      ]
     },
     "execution_count": 23,
     "metadata": {},
     "output_type": "execute_result"
    }
   ],
   "source": [
    "type(x)"
   ]
  },
  {
   "cell_type": "code",
   "execution_count": 85,
   "id": "0a07271e-87a3-4a50-adb5-8ed1a80222ca",
   "metadata": {},
   "outputs": [
    {
     "name": "stdout",
     "output_type": "stream",
     "text": [
      "2021-08-09 16:33:33,694 - qm - INFO - Performing health check\n",
      "2021-08-09 16:33:34,199 - qm - INFO - Health check passed\n",
      "2021-08-09 16:33:34,358 - qm - WARNING - Client's version (0.90.1619) does not match the server version (0.90.974).\n"
     ]
    }
   ],
   "source": [
    "from qm.QuantumMachinesManager import QuantumMachinesManager\n",
    "qmm = QuantumMachinesManager('3.15.166.181')"
   ]
  },
  {
   "cell_type": "code",
   "execution_count": 86,
   "id": "b01f6a06-20fa-4791-8053-186a982638ed",
   "metadata": {},
   "outputs": [],
   "source": [
    "from qm.qua import *"
   ]
  },
  {
   "cell_type": "code",
   "execution_count": 95,
   "id": "2911cdca-cb4f-427d-afdb-375266720a38",
   "metadata": {},
   "outputs": [
    {
     "name": "stdout",
     "output_type": "stream",
     "text": [
      "2021-08-09 17:08:25,228 - qm - INFO - Flags: \n",
      "2021-08-09 17:08:25,229 - qm - INFO - Simulating Qua program\n"
     ]
    },
    {
     "data": {
      "image/png": "[encoded data removed]",
      "text/plain": [
       "<Figure size 432x288 with 1 Axes>"
      ]
     },
     "metadata": {
      "needs_background": "light"
     },
     "output_type": "display_data"
    }
   ],
   "source": [
    "from qm.QuantumMachinesManager import QuantumMachinesManager\n",
    "from qm.qua import *\n",
    "from qm import SimulationConfig\n",
    "\n",
    "config = {\n",
    "    \"version\": 1,\n",
    "    \"controllers\": {\n",
    "        \"con1\": {\n",
    "            \"type\": \"opx1\",\n",
    "            \"analog_outputs\": {\n",
    "                1: {\"offset\": +0.0},\n",
    "                2: {\"offset\": +0.0},\n",
    "            },\n",
    "        }\n",
    "    },\n",
    "    \"elements\": {\n",
    "        f\"qe{i+1}\": {\n",
    "            \"singleInput\": {\"port\": (\"con1\", i+1)},\n",
    "            \"intermediate_frequency\": 0,\n",
    "            \"operations\": {\n",
    "                \"op\": \"constPulse\",\n",
    "            },\n",
    "        }\n",
    "    for i in range(2) },\n",
    "    \"pulses\": {\n",
    "        \"constPulse\": {\n",
    "            \"operation\": \"control\",\n",
    "            \"length\": 1000,  # in ns\n",
    "            \"waveforms\": {\"single\": \"const_wf\"},\n",
    "        },\n",
    "    },\n",
    "    \"waveforms\": {\n",
    "        \"const_wf\": {\"type\": \"constant\", \"sample\": 0.2},\n",
    "    },\n",
    "}\n",
    "\n",
    "example_matrix = [[0.9, 0.1], [0.8, -0.2]]\n",
    "\n",
    "with program() as prog:\n",
    "    \n",
    "    a_out = declare(fixed, size=2)\n",
    "    a_set = declare(fixed, value=[0.3, 0.5])\n",
    "    n = declare(int)\n",
    "    m = declare(int)\n",
    "    \n",
    "    for i in range(2):\n",
    "        for j in range(2):\n",
    "            assign(a_out[i], example_matrix[i][j] * a_set[j])\n",
    "\n",
    "    for i in range(2):\n",
    "        play(\"op\" * amp(a_out[i]), f\"qe{i+1}\")\n",
    "\n",
    "job = qmm.simulate(config, prog, SimulationConfig(1000))\n",
    "\n",
    "samples = job.get_simulated_samples()\n",
    "samples.con1.plot()\n"
   ]
  },
  {
   "cell_type": "code",
   "execution_count": 35,
   "id": "96d6f79b-694e-417e-b2d7-483a048f1464",
   "metadata": {},
   "outputs": [],
   "source": [
    "x=2"
   ]
  },
  {
   "cell_type": "code",
   "execution_count": 36,
   "id": "497f1261-e076-49d4-9e74-934431a636d8",
   "metadata": {},
   "outputs": [
    {
     "data": {
      "text/plain": [
       "False"
      ]
     },
     "execution_count": 36,
     "metadata": {},
     "output_type": "execute_result"
    }
   ],
   "source": [
    "expr[0] is x"
   ]
  },
  {
   "cell_type": "code",
   "execution_count": 40,
   "id": "25035283-d474-48b6-a163-796397aba3c4",
   "metadata": {},
   "outputs": [
    {
     "data": {
      "text/plain": [
       "\u001b[0;31mSignature:\u001b[0m\n",
       "\u001b[0mlambdify\u001b[0m\u001b[0;34m(\u001b[0m\u001b[0;34m\u001b[0m\n",
       "\u001b[0;34m\u001b[0m    \u001b[0margs\u001b[0m\u001b[0;34m:\u001b[0m \u001b[0mIterable\u001b[0m\u001b[0;34m,\u001b[0m\u001b[0;34m\u001b[0m\n",
       "\u001b[0;34m\u001b[0m    \u001b[0mexpr\u001b[0m\u001b[0;34m,\u001b[0m\u001b[0;34m\u001b[0m\n",
       "\u001b[0;34m\u001b[0m    \u001b[0mmodules\u001b[0m\u001b[0;34m=\u001b[0m\u001b[0;32mNone\u001b[0m\u001b[0;34m,\u001b[0m\u001b[0;34m\u001b[0m\n",
       "\u001b[0;34m\u001b[0m    \u001b[0mprinter\u001b[0m\u001b[0;34m=\u001b[0m\u001b[0;32mNone\u001b[0m\u001b[0;34m,\u001b[0m\u001b[0;34m\u001b[0m\n",
       "\u001b[0;34m\u001b[0m    \u001b[0muse_imps\u001b[0m\u001b[0;34m=\u001b[0m\u001b[0;32mTrue\u001b[0m\u001b[0;34m,\u001b[0m\u001b[0;34m\u001b[0m\n",
       "\u001b[0;34m\u001b[0m    \u001b[0mdummify\u001b[0m\u001b[0;34m=\u001b[0m\u001b[0;32mFalse\u001b[0m\u001b[0;34m,\u001b[0m\u001b[0;34m\u001b[0m\n",
       "\u001b[0;34m\u001b[0m\u001b[0;34m)\u001b[0m\u001b[0;34m\u001b[0m\u001b[0;34m\u001b[0m\u001b[0m\n",
       "\u001b[0;31mDocstring:\u001b[0m\n",
       "Convert a SymPy expression into a function that allows for fast\n",
       "numeric evaluation.\n",
       "\n",
       ".. warning::\n",
       "   This function uses ``exec``, and thus shouldn't be used on\n",
       "   unsanitized input.\n",
       "\n",
       ".. versionchanged:: 1.7.0\n",
       "   Passing a set for the *args* parameter is deprecated as sets are\n",
       "   unordered. Use an ordered iterable such as a list or tuple.\n",
       "\n",
       "Explanation\n",
       "===========\n",
       "\n",
       "For example, to convert the SymPy expression ``sin(x) + cos(x)`` to an\n",
       "equivalent NumPy function that numerically evaluates it:\n",
       "\n",
       ">>> from sympy import sin, cos, symbols, lambdify\n",
       ">>> import numpy as np\n",
       ">>> x = symbols('x')\n",
       ">>> expr = sin(x) + cos(x)\n",
       ">>> expr\n",
       "sin(x) + cos(x)\n",
       ">>> f = lambdify(x, expr, 'numpy')\n",
       ">>> a = np.array([1, 2])\n",
       ">>> f(a)\n",
       "[1.38177329 0.49315059]\n",
       "\n",
       "The primary purpose of this function is to provide a bridge from SymPy\n",
       "expressions to numerical libraries such as NumPy, SciPy, NumExpr, mpmath,\n",
       "and tensorflow. In general, SymPy functions do not work with objects from\n",
       "other libraries, such as NumPy arrays, and functions from numeric\n",
       "libraries like NumPy or mpmath do not work on SymPy expressions.\n",
       "``lambdify`` bridges the two by converting a SymPy expression to an\n",
       "equivalent numeric function.\n",
       "\n",
       "The basic workflow with ``lambdify`` is to first create a SymPy expression\n",
       "representing whatever mathematical function you wish to evaluate. This\n",
       "should be done using only SymPy functions and expressions. Then, use\n",
       "``lambdify`` to convert this to an equivalent function for numerical\n",
       "evaluation. For instance, above we created ``expr`` using the SymPy symbol\n",
       "``x`` and SymPy functions ``sin`` and ``cos``, then converted it to an\n",
       "equivalent NumPy function ``f``, and called it on a NumPy array ``a``.\n",
       "\n",
       "Parameters\n",
       "==========\n",
       "\n",
       "args : List[Symbol]\n",
       "    A variable or a list of variables whose nesting represents the\n",
       "    nesting of the arguments that will be passed to the function.\n",
       "\n",
       "    Variables can be symbols, undefined functions, or matrix symbols.\n",
       "\n",
       "    >>> from sympy import Eq\n",
       "    >>> from sympy.abc import x, y, z\n",
       "\n",
       "    The list of variables should match the structure of how the\n",
       "    arguments will be passed to the function. Simply enclose the\n",
       "    parameters as they will be passed in a list.\n",
       "\n",
       "    To call a function like ``f(x)`` then ``[x]``\n",
       "    should be the first argument to ``lambdify``; for this\n",
       "    case a single ``x`` can also be used:\n",
       "\n",
       "    >>> f = lambdify(x, x + 1)\n",
       "    >>> f(1)\n",
       "    2\n",
       "    >>> f = lambdify([x], x + 1)\n",
       "    >>> f(1)\n",
       "    2\n",
       "\n",
       "    To call a function like ``f(x, y)`` then ``[x, y]`` will\n",
       "    be the first argument of the ``lambdify``:\n",
       "\n",
       "    >>> f = lambdify([x, y], x + y)\n",
       "    >>> f(1, 1)\n",
       "    2\n",
       "\n",
       "    To call a function with a single 3-element tuple like\n",
       "    ``f((x, y, z))`` then ``[(x, y, z)]`` will be the first\n",
       "    argument of the ``lambdify``:\n",
       "\n",
       "    >>> f = lambdify([(x, y, z)], Eq(z**2, x**2 + y**2))\n",
       "    >>> f((3, 4, 5))\n",
       "    True\n",
       "\n",
       "    If two args will be passed and the first is a scalar but\n",
       "    the second is a tuple with two arguments then the items\n",
       "    in the list should match that structure:\n",
       "\n",
       "    >>> f = lambdify([x, (y, z)], x + y + z)\n",
       "    >>> f(1, (2, 3))\n",
       "    6\n",
       "\n",
       "expr : Expr\n",
       "    An expression, list of expressions, or matrix to be evaluated.\n",
       "\n",
       "    Lists may be nested.\n",
       "    If the expression is a list, the output will also be a list.\n",
       "\n",
       "    >>> f = lambdify(x, [x, [x + 1, x + 2]])\n",
       "    >>> f(1)\n",
       "    [1, [2, 3]]\n",
       "\n",
       "    If it is a matrix, an array will be returned (for the NumPy module).\n",
       "\n",
       "    >>> from sympy import Matrix\n",
       "    >>> f = lambdify(x, Matrix([x, x + 1]))\n",
       "    >>> f(1)\n",
       "    [[1]\n",
       "    [2]]\n",
       "\n",
       "    Note that the argument order here (variables then expression) is used\n",
       "    to emulate the Python ``lambda`` keyword. ``lambdify(x, expr)`` works\n",
       "    (roughly) like ``lambda x: expr``\n",
       "    (see :ref:`lambdify-how-it-works` below).\n",
       "\n",
       "modules : str, optional\n",
       "    Specifies the numeric library to use.\n",
       "\n",
       "    If not specified, *modules* defaults to:\n",
       "\n",
       "    - ``[\"scipy\", \"numpy\"]`` if SciPy is installed\n",
       "    - ``[\"numpy\"]`` if only NumPy is installed\n",
       "    - ``[\"math\", \"mpmath\", \"sympy\"]`` if neither is installed.\n",
       "\n",
       "    That is, SymPy functions are replaced as far as possible by\n",
       "    either ``scipy`` or ``numpy`` functions if available, and Python's\n",
       "    standard library ``math``, or ``mpmath`` functions otherwise.\n",
       "\n",
       "    *modules* can be one of the following types:\n",
       "\n",
       "    - The strings ``\"math\"``, ``\"mpmath\"``, ``\"numpy\"``, ``\"numexpr\"``,\n",
       "      ``\"scipy\"``, ``\"sympy\"``, or ``\"tensorflow\"``. This uses the\n",
       "      corresponding printer and namespace mapping for that module.\n",
       "    - A module (e.g., ``math``). This uses the global namespace of the\n",
       "      module. If the module is one of the above known modules, it will\n",
       "      also use the corresponding printer and namespace mapping\n",
       "      (i.e., ``modules=numpy`` is equivalent to ``modules=\"numpy\"``).\n",
       "    - A dictionary that maps names of SymPy functions to arbitrary\n",
       "      functions\n",
       "      (e.g., ``{'sin': custom_sin}``).\n",
       "    - A list that contains a mix of the arguments above, with higher\n",
       "      priority given to entries appearing first\n",
       "      (e.g., to use the NumPy module but override the ``sin`` function\n",
       "      with a custom version, you can use\n",
       "      ``[{'sin': custom_sin}, 'numpy']``).\n",
       "\n",
       "dummify : bool, optional\n",
       "    Whether or not the variables in the provided expression that are not\n",
       "    valid Python identifiers are substituted with dummy symbols.\n",
       "\n",
       "    This allows for undefined functions like ``Function('f')(t)`` to be\n",
       "    supplied as arguments. By default, the variables are only dummified\n",
       "    if they are not valid Python identifiers.\n",
       "\n",
       "    Set ``dummify=True`` to replace all arguments with dummy symbols\n",
       "    (if ``args`` is not a string) - for example, to ensure that the\n",
       "    arguments do not redefine any built-in names.\n",
       "\n",
       "\n",
       "Examples\n",
       "========\n",
       "\n",
       ">>> from sympy.utilities.lambdify import implemented_function\n",
       ">>> from sympy import sqrt, sin, Matrix\n",
       ">>> from sympy import Function\n",
       ">>> from sympy.abc import w, x, y, z\n",
       "\n",
       ">>> f = lambdify(x, x**2)\n",
       ">>> f(2)\n",
       "4\n",
       ">>> f = lambdify((x, y, z), [z, y, x])\n",
       ">>> f(1,2,3)\n",
       "[3, 2, 1]\n",
       ">>> f = lambdify(x, sqrt(x))\n",
       ">>> f(4)\n",
       "2.0\n",
       ">>> f = lambdify((x, y), sin(x*y)**2)\n",
       ">>> f(0, 5)\n",
       "0.0\n",
       ">>> row = lambdify((x, y), Matrix((x, x + y)).T, modules='sympy')\n",
       ">>> row(1, 2)\n",
       "Matrix([[1, 3]])\n",
       "\n",
       "``lambdify`` can be used to translate SymPy expressions into mpmath\n",
       "functions. This may be preferable to using ``evalf`` (which uses mpmath on\n",
       "the backend) in some cases.\n",
       "\n",
       ">>> f = lambdify(x, sin(x), 'mpmath')\n",
       ">>> f(1)\n",
       "0.8414709848078965\n",
       "\n",
       "Tuple arguments are handled and the lambdified function should\n",
       "be called with the same type of arguments as were used to create\n",
       "the function:\n",
       "\n",
       ">>> f = lambdify((x, (y, z)), x + y)\n",
       ">>> f(1, (2, 4))\n",
       "3\n",
       "\n",
       "The ``flatten`` function can be used to always work with flattened\n",
       "arguments:\n",
       "\n",
       ">>> from sympy.utilities.iterables import flatten\n",
       ">>> args = w, (x, (y, z))\n",
       ">>> vals = 1, (2, (3, 4))\n",
       ">>> f = lambdify(flatten(args), w + x + y + z)\n",
       ">>> f(*flatten(vals))\n",
       "10\n",
       "\n",
       "Functions present in ``expr`` can also carry their own numerical\n",
       "implementations, in a callable attached to the ``_imp_`` attribute. This\n",
       "can be used with undefined functions using the ``implemented_function``\n",
       "factory:\n",
       "\n",
       ">>> f = implemented_function(Function('f'), lambda x: x+1)\n",
       ">>> func = lambdify(x, f(x))\n",
       ">>> func(4)\n",
       "5\n",
       "\n",
       "``lambdify`` always prefers ``_imp_`` implementations to implementations\n",
       "in other namespaces, unless the ``use_imps`` input parameter is False.\n",
       "\n",
       "Usage with Tensorflow:\n",
       "\n",
       ">>> import tensorflow as tf\n",
       ">>> from sympy import Max, sin, lambdify\n",
       ">>> from sympy.abc import x\n",
       "\n",
       ">>> f = Max(x, sin(x))\n",
       ">>> func = lambdify(x, f, 'tensorflow')\n",
       "\n",
       "After tensorflow v2, eager execution is enabled by default.\n",
       "If you want to get the compatible result across tensorflow v1 and v2\n",
       "as same as this tutorial, run this line.\n",
       "\n",
       ">>> tf.compat.v1.enable_eager_execution()\n",
       "\n",
       "If you have eager execution enabled, you can get the result out\n",
       "immediately as you can use numpy.\n",
       "\n",
       "If you pass tensorflow objects, you may get an ``EagerTensor``\n",
       "object instead of value.\n",
       "\n",
       ">>> result = func(tf.constant(1.0))\n",
       ">>> print(result)\n",
       "tf.Tensor(1.0, shape=(), dtype=float32)\n",
       ">>> print(result.__class__)\n",
       "<class 'tensorflow.python.framework.ops.EagerTensor'>\n",
       "\n",
       "You can use ``.numpy()`` to get the numpy value of the tensor.\n",
       "\n",
       ">>> result.numpy()\n",
       "1.0\n",
       "\n",
       ">>> var = tf.Variable(2.0)\n",
       ">>> result = func(var) # also works for tf.Variable and tf.Placeholder\n",
       ">>> result.numpy()\n",
       "2.0\n",
       "\n",
       "And it works with any shape array.\n",
       "\n",
       ">>> tensor = tf.constant([[1.0, 2.0], [3.0, 4.0]])\n",
       ">>> result = func(tensor)\n",
       ">>> result.numpy()\n",
       "[[1. 2.]\n",
       " [3. 4.]]\n",
       "\n",
       "Notes\n",
       "=====\n",
       "\n",
       "- For functions involving large array calculations, numexpr can provide a\n",
       "  significant speedup over numpy. Please note that the available functions\n",
       "  for numexpr are more limited than numpy but can be expanded with\n",
       "  ``implemented_function`` and user defined subclasses of Function. If\n",
       "  specified, numexpr may be the only option in modules. The official list\n",
       "  of numexpr functions can be found at:\n",
       "  https://numexpr.readthedocs.io/en/latest/user_guide.html#supported-functions\n",
       "\n",
       "- In previous versions of SymPy, ``lambdify`` replaced ``Matrix`` with\n",
       "  ``numpy.matrix`` by default. As of SymPy 1.0 ``numpy.array`` is the\n",
       "  default. To get the old default behavior you must pass in\n",
       "  ``[{'ImmutableDenseMatrix':  numpy.matrix}, 'numpy']`` to the\n",
       "  ``modules`` kwarg.\n",
       "\n",
       "  >>> from sympy import lambdify, Matrix\n",
       "  >>> from sympy.abc import x, y\n",
       "  >>> import numpy\n",
       "  >>> array2mat = [{'ImmutableDenseMatrix': numpy.matrix}, 'numpy']\n",
       "  >>> f = lambdify((x, y), Matrix([x, y]), modules=array2mat)\n",
       "  >>> f(1, 2)\n",
       "  [[1]\n",
       "   [2]]\n",
       "\n",
       "- In the above examples, the generated functions can accept scalar\n",
       "  values or numpy arrays as arguments.  However, in some cases\n",
       "  the generated function relies on the input being a numpy array:\n",
       "\n",
       "  >>> from sympy import Piecewise\n",
       "  >>> from sympy.testing.pytest import ignore_warnings\n",
       "  >>> f = lambdify(x, Piecewise((x, x <= 1), (1/x, x > 1)), \"numpy\")\n",
       "\n",
       "  >>> with ignore_warnings(RuntimeWarning):\n",
       "  ...     f(numpy.array([-1, 0, 1, 2]))\n",
       "  [-1.   0.   1.   0.5]\n",
       "\n",
       "  >>> f(0)\n",
       "  Traceback (most recent call last):\n",
       "      ...\n",
       "  ZeroDivisionError: division by zero\n",
       "\n",
       "  In such cases, the input should be wrapped in a numpy array:\n",
       "\n",
       "  >>> with ignore_warnings(RuntimeWarning):\n",
       "  ...     float(f(numpy.array([0])))\n",
       "  0.0\n",
       "\n",
       "  Or if numpy functionality is not required another module can be used:\n",
       "\n",
       "  >>> f = lambdify(x, Piecewise((x, x <= 1), (1/x, x > 1)), \"math\")\n",
       "  >>> f(0)\n",
       "  0\n",
       "\n",
       ".. _lambdify-how-it-works:\n",
       "\n",
       "How it works\n",
       "============\n",
       "\n",
       "When using this function, it helps a great deal to have an idea of what it\n",
       "is doing. At its core, lambdify is nothing more than a namespace\n",
       "translation, on top of a special printer that makes some corner cases work\n",
       "properly.\n",
       "\n",
       "To understand lambdify, first we must properly understand how Python\n",
       "namespaces work. Say we had two files. One called ``sin_cos_sympy.py``,\n",
       "with\n",
       "\n",
       ".. code:: python\n",
       "\n",
       "    # sin_cos_sympy.py\n",
       "\n",
       "    from sympy import sin, cos\n",
       "\n",
       "    def sin_cos(x):\n",
       "        return sin(x) + cos(x)\n",
       "\n",
       "\n",
       "and one called ``sin_cos_numpy.py`` with\n",
       "\n",
       ".. code:: python\n",
       "\n",
       "    # sin_cos_numpy.py\n",
       "\n",
       "    from numpy import sin, cos\n",
       "\n",
       "    def sin_cos(x):\n",
       "        return sin(x) + cos(x)\n",
       "\n",
       "The two files define an identical function ``sin_cos``. However, in the\n",
       "first file, ``sin`` and ``cos`` are defined as the SymPy ``sin`` and\n",
       "``cos``. In the second, they are defined as the NumPy versions.\n",
       "\n",
       "If we were to import the first file and use the ``sin_cos`` function, we\n",
       "would get something like\n",
       "\n",
       ">>> from sin_cos_sympy import sin_cos # doctest: +SKIP\n",
       ">>> sin_cos(1) # doctest: +SKIP\n",
       "cos(1) + sin(1)\n",
       "\n",
       "On the other hand, if we imported ``sin_cos`` from the second file, we\n",
       "would get\n",
       "\n",
       ">>> from sin_cos_numpy import sin_cos # doctest: +SKIP\n",
       ">>> sin_cos(1) # doctest: +SKIP\n",
       "1.38177329068\n",
       "\n",
       "In the first case we got a symbolic output, because it used the symbolic\n",
       "``sin`` and ``cos`` functions from SymPy. In the second, we got a numeric\n",
       "result, because ``sin_cos`` used the numeric ``sin`` and ``cos`` functions\n",
       "from NumPy. But notice that the versions of ``sin`` and ``cos`` that were\n",
       "used was not inherent to the ``sin_cos`` function definition. Both\n",
       "``sin_cos`` definitions are exactly the same. Rather, it was based on the\n",
       "names defined at the module where the ``sin_cos`` function was defined.\n",
       "\n",
       "The key point here is that when function in Python references a name that\n",
       "is not defined in the function, that name is looked up in the \"global\"\n",
       "namespace of the module where that function is defined.\n",
       "\n",
       "Now, in Python, we can emulate this behavior without actually writing a\n",
       "file to disk using the ``exec`` function. ``exec`` takes a string\n",
       "containing a block of Python code, and a dictionary that should contain\n",
       "the global variables of the module. It then executes the code \"in\" that\n",
       "dictionary, as if it were the module globals. The following is equivalent\n",
       "to the ``sin_cos`` defined in ``sin_cos_sympy.py``:\n",
       "\n",
       ">>> import sympy\n",
       ">>> module_dictionary = {'sin': sympy.sin, 'cos': sympy.cos}\n",
       ">>> exec('''\n",
       "... def sin_cos(x):\n",
       "...     return sin(x) + cos(x)\n",
       "... ''', module_dictionary)\n",
       ">>> sin_cos = module_dictionary['sin_cos']\n",
       ">>> sin_cos(1)\n",
       "cos(1) + sin(1)\n",
       "\n",
       "and similarly with ``sin_cos_numpy``:\n",
       "\n",
       ">>> import numpy\n",
       ">>> module_dictionary = {'sin': numpy.sin, 'cos': numpy.cos}\n",
       ">>> exec('''\n",
       "... def sin_cos(x):\n",
       "...     return sin(x) + cos(x)\n",
       "... ''', module_dictionary)\n",
       ">>> sin_cos = module_dictionary['sin_cos']\n",
       ">>> sin_cos(1)\n",
       "1.38177329068\n",
       "\n",
       "So now we can get an idea of how ``lambdify`` works. The name \"lambdify\"\n",
       "comes from the fact that we can think of something like ``lambdify(x,\n",
       "sin(x) + cos(x), 'numpy')`` as ``lambda x: sin(x) + cos(x)``, where\n",
       "``sin`` and ``cos`` come from the ``numpy`` namespace. This is also why\n",
       "the symbols argument is first in ``lambdify``, as opposed to most SymPy\n",
       "functions where it comes after the expression: to better mimic the\n",
       "``lambda`` keyword.\n",
       "\n",
       "``lambdify`` takes the input expression (like ``sin(x) + cos(x)``) and\n",
       "\n",
       "1. Converts it to a string\n",
       "2. Creates a module globals dictionary based on the modules that are\n",
       "   passed in (by default, it uses the NumPy module)\n",
       "3. Creates the string ``\"def func({vars}): return {expr}\"``, where ``{vars}`` is the\n",
       "   list of variables separated by commas, and ``{expr}`` is the string\n",
       "   created in step 1., then ``exec``s that string with the module globals\n",
       "   namespace and returns ``func``.\n",
       "\n",
       "In fact, functions returned by ``lambdify`` support inspection. So you can\n",
       "see exactly how they are defined by using ``inspect.getsource``, or ``??`` if you\n",
       "are using IPython or the Jupyter notebook.\n",
       "\n",
       ">>> f = lambdify(x, sin(x) + cos(x))\n",
       ">>> import inspect\n",
       ">>> print(inspect.getsource(f))\n",
       "def _lambdifygenerated(x):\n",
       "    return (sin(x) + cos(x))\n",
       "\n",
       "This shows us the source code of the function, but not the namespace it\n",
       "was defined in. We can inspect that by looking at the ``__globals__``\n",
       "attribute of ``f``:\n",
       "\n",
       ">>> f.__globals__['sin']\n",
       "<ufunc 'sin'>\n",
       ">>> f.__globals__['cos']\n",
       "<ufunc 'cos'>\n",
       ">>> f.__globals__['sin'] is numpy.sin\n",
       "True\n",
       "\n",
       "This shows us that ``sin`` and ``cos`` in the namespace of ``f`` will be\n",
       "``numpy.sin`` and ``numpy.cos``.\n",
       "\n",
       "Note that there are some convenience layers in each of these steps, but at\n",
       "the core, this is how ``lambdify`` works. Step 1 is done using the\n",
       "``LambdaPrinter`` printers defined in the printing module (see\n",
       ":mod:`sympy.printing.lambdarepr`). This allows different SymPy expressions\n",
       "to define how they should be converted to a string for different modules.\n",
       "You can change which printer ``lambdify`` uses by passing a custom printer\n",
       "in to the ``printer`` argument.\n",
       "\n",
       "Step 2 is augmented by certain translations. There are default\n",
       "translations for each module, but you can provide your own by passing a\n",
       "list to the ``modules`` argument. For instance,\n",
       "\n",
       ">>> def mysin(x):\n",
       "...     print('taking the sin of', x)\n",
       "...     return numpy.sin(x)\n",
       "...\n",
       ">>> f = lambdify(x, sin(x), [{'sin': mysin}, 'numpy'])\n",
       ">>> f(1)\n",
       "taking the sin of 1\n",
       "0.8414709848078965\n",
       "\n",
       "The globals dictionary is generated from the list by merging the\n",
       "dictionary ``{'sin': mysin}`` and the module dictionary for NumPy. The\n",
       "merging is done so that earlier items take precedence, which is why\n",
       "``mysin`` is used above instead of ``numpy.sin``.\n",
       "\n",
       "If you want to modify the way ``lambdify`` works for a given function, it\n",
       "is usually easiest to do so by modifying the globals dictionary as such.\n",
       "In more complicated cases, it may be necessary to create and pass in a\n",
       "custom printer.\n",
       "\n",
       "Finally, step 3 is augmented with certain convenience operations, such as\n",
       "the addition of a docstring.\n",
       "\n",
       "Understanding how ``lambdify`` works can make it easier to avoid certain\n",
       "gotchas when using it. For instance, a common mistake is to create a\n",
       "lambdified function for one module (say, NumPy), and pass it objects from\n",
       "another (say, a SymPy expression).\n",
       "\n",
       "For instance, say we create\n",
       "\n",
       ">>> from sympy.abc import x\n",
       ">>> f = lambdify(x, x + 1, 'numpy')\n",
       "\n",
       "Now if we pass in a NumPy array, we get that array plus 1\n",
       "\n",
       ">>> import numpy\n",
       ">>> a = numpy.array([1, 2])\n",
       ">>> f(a)\n",
       "[2 3]\n",
       "\n",
       "But what happens if you make the mistake of passing in a SymPy expression\n",
       "instead of a NumPy array:\n",
       "\n",
       ">>> f(x + 1)\n",
       "x + 2\n",
       "\n",
       "This worked, but it was only by accident. Now take a different lambdified\n",
       "function:\n",
       "\n",
       ">>> from sympy import sin\n",
       ">>> g = lambdify(x, x + sin(x), 'numpy')\n",
       "\n",
       "This works as expected on NumPy arrays:\n",
       "\n",
       ">>> g(a)\n",
       "[1.84147098 2.90929743]\n",
       "\n",
       "But if we try to pass in a SymPy expression, it fails\n",
       "\n",
       ">>> try:\n",
       "...     g(x + 1)\n",
       "... # NumPy release after 1.17 raises TypeError instead of\n",
       "... # AttributeError\n",
       "... except (AttributeError, TypeError):\n",
       "...     raise AttributeError() # doctest: +IGNORE_EXCEPTION_DETAIL\n",
       "Traceback (most recent call last):\n",
       "...\n",
       "AttributeError:\n",
       "\n",
       "Now, let's look at what happened. The reason this fails is that ``g``\n",
       "calls ``numpy.sin`` on the input expression, and ``numpy.sin`` does not\n",
       "know how to operate on a SymPy object. **As a general rule, NumPy\n",
       "functions do not know how to operate on SymPy expressions, and SymPy\n",
       "functions do not know how to operate on NumPy arrays. This is why lambdify\n",
       "exists: to provide a bridge between SymPy and NumPy.**\n",
       "\n",
       "However, why is it that ``f`` did work? That's because ``f`` doesn't call\n",
       "any functions, it only adds 1. So the resulting function that is created,\n",
       "``def _lambdifygenerated(x): return x + 1`` does not depend on the globals\n",
       "namespace it is defined in. Thus it works, but only by accident. A future\n",
       "version of ``lambdify`` may remove this behavior.\n",
       "\n",
       "Be aware that certain implementation details described here may change in\n",
       "future versions of SymPy. The API of passing in custom modules and\n",
       "printers will not change, but the details of how a lambda function is\n",
       "created may change. However, the basic idea will remain the same, and\n",
       "understanding it will be helpful to understanding the behavior of\n",
       "lambdify.\n",
       "\n",
       "**In general: you should create lambdified functions for one module (say,\n",
       "NumPy), and only pass it input types that are compatible with that module\n",
       "(say, NumPy arrays).** Remember that by default, if the ``module``\n",
       "argument is not provided, ``lambdify`` creates functions using the NumPy\n",
       "and SciPy namespaces.\n",
       "\u001b[0;31mFile:\u001b[0m      ~/miniconda3/lib/python3.9/site-packages/sympy/utilities/lambdify.py\n",
       "\u001b[0;31mType:\u001b[0m      function\n"
      ]
     },
     "metadata": {},
     "output_type": "display_data"
    }
   ],
   "source": [
    "lambdify?"
   ]
  },
  {
   "cell_type": "code",
   "execution_count": 50,
   "id": "f5f9da5c-785c-4442-a6f8-31fa1867b751",
   "metadata": {},
   "outputs": [],
   "source": [
    "x, y = symbols('x y')"
   ]
  },
  {
   "cell_type": "code",
   "execution_count": 45,
   "id": "825e1810-6162-4711-9144-8641983ee3eb",
   "metadata": {},
   "outputs": [],
   "source": [
    "\n",
    "import numpy as np\n",
    "expr = sin(x)\n",
    "a = np.linspace(0,1,100)\n",
    "f = lambdify(x, expr)"
   ]
  },
  {
   "cell_type": "code",
   "execution_count": 47,
   "id": "2654e943-1e37-4668-acb9-e09e968be3b4",
   "metadata": {},
   "outputs": [
    {
     "data": {
      "text/latex": [
       "$\\displaystyle 1$"
      ],
      "text/plain": [
       "1"
      ]
     },
     "execution_count": 47,
     "metadata": {},
     "output_type": "execute_result"
    }
   ],
   "source": [
    "simplify(sin(x)**2 + cos(x)**2)"
   ]
  },
  {
   "cell_type": "code",
   "execution_count": 53,
   "id": "f50fb81c-947c-401e-8349-b323033787c8",
   "metadata": {},
   "outputs": [
    {
     "data": {
      "text/latex": [
       "$\\displaystyle 4 x y e^{x^{2} + y^{2}}$"
      ],
      "text/plain": [
       "4*x*y*exp(x**2 + y**2)"
      ]
     },
     "execution_count": 53,
     "metadata": {},
     "output_type": "execute_result"
    }
   ],
   "source": [
    "diff(exp(x**2+y**2), x, y)"
   ]
  },
  {
   "cell_type": "code",
   "execution_count": 54,
   "id": "485a39e1-338e-4308-9f6d-d3936e7dd122",
   "metadata": {},
   "outputs": [
    {
     "data": {
      "text/plain": [
       "exp"
      ]
     },
     "execution_count": 54,
     "metadata": {},
     "output_type": "execute_result"
    }
   ],
   "source": [
    "type(exp(x**2+y**2))"
   ]
  },
  {
   "cell_type": "code",
   "execution_count": 56,
   "id": "fc969df0-b72a-4fc7-8faa-95e040055d89",
   "metadata": {},
   "outputs": [
    {
     "data": {
      "text/latex": [
       "$\\displaystyle \\frac{\\partial^{2}}{\\partial y\\partial x} e^{x^{2} + y^{2}}$"
      ],
      "text/plain": [
       "Derivative(exp(x**2 + y**2), x, y)"
      ]
     },
     "execution_count": 56,
     "metadata": {},
     "output_type": "execute_result"
    }
   ],
   "source": [
    "Derivative(exp(x**2+y**2), x, y)"
   ]
  },
  {
   "cell_type": "code",
   "execution_count": 57,
   "id": "b9570457-2212-4c89-b78a-57a0282ba54c",
   "metadata": {},
   "outputs": [
    {
     "data": {
      "text/latex": [
       "$\\displaystyle \\infty$"
      ],
      "text/plain": [
       "oo"
      ]
     },
     "execution_count": 57,
     "metadata": {},
     "output_type": "execute_result"
    }
   ],
   "source": [
    "oo"
   ]
  },
  {
   "cell_type": "code",
   "execution_count": 60,
   "id": "3348764f-0734-4f63-ba7c-c3793a7fb225",
   "metadata": {},
   "outputs": [
    {
     "data": {
      "text/latex": [
       "$\\displaystyle x + 2 x^{2} + O\\left(x^{3}\\right)$"
      ],
      "text/plain": [
       "x + 2*x**2 + O(x**3)"
      ]
     },
     "execution_count": 60,
     "metadata": {},
     "output_type": "execute_result"
    }
   ],
   "source": [
    "x+x**2+O(x**3) + x**2"
   ]
  },
  {
   "cell_type": "code",
   "execution_count": 68,
   "id": "e7e5c18a-fafb-46a6-a1ba-c61731cf5dd5",
   "metadata": {},
   "outputs": [
    {
     "data": {
      "text/latex": [
       "$\\displaystyle -1$"
      ],
      "text/plain": [
       "-1"
      ]
     },
     "execution_count": 68,
     "metadata": {},
     "output_type": "execute_result"
    }
   ],
   "source": [
    "simplify(exp(1j*pi/2)*exp(1j*pi/2))"
   ]
  },
  {
   "cell_type": "code",
   "execution_count": 71,
   "id": "effb6a56-96a5-4ab0-95eb-0d4bd2c7b451",
   "metadata": {},
   "outputs": [
    {
     "ename": "ShapeError",
     "evalue": "Matrix size mismatch: (2, 1) * (2, 1).",
     "output_type": "error",
     "traceback": [
      "\u001b[0;31m---------------------------------------------------------------------------\u001b[0m",
      "\u001b[0;31mShapeError\u001b[0m                                Traceback (most recent call last)",
      "\u001b[0;32m<ipython-input-71-9c90dbc7f469>\u001b[0m in \u001b[0;36m<module>\u001b[0;34m\u001b[0m\n\u001b[0;32m----> 1\u001b[0;31m \u001b[0mMatrix\u001b[0m\u001b[0;34m(\u001b[0m\u001b[0;34m[\u001b[0m\u001b[0mx\u001b[0m\u001b[0;34m,\u001b[0m \u001b[0my\u001b[0m\u001b[0;34m+\u001b[0m\u001b[0;36m1\u001b[0m\u001b[0;34m]\u001b[0m\u001b[0;34m)\u001b[0m\u001b[0;34m*\u001b[0m\u001b[0mMatrix\u001b[0m\u001b[0;34m(\u001b[0m\u001b[0;34m[\u001b[0m\u001b[0mx\u001b[0m\u001b[0;34m,\u001b[0m \u001b[0my\u001b[0m\u001b[0;34m+\u001b[0m\u001b[0;36m1\u001b[0m\u001b[0;34m]\u001b[0m\u001b[0;34m)\u001b[0m\u001b[0;34m\u001b[0m\u001b[0;34m\u001b[0m\u001b[0m\n\u001b[0m",
      "\u001b[0;32m~/miniconda3/lib/python3.9/site-packages/sympy/core/decorators.py\u001b[0m in \u001b[0;36mbinary_op_wrapper\u001b[0;34m(self, other)\u001b[0m\n\u001b[1;32m    134\u001b[0m                     \u001b[0;32mif\u001b[0m \u001b[0mf\u001b[0m \u001b[0;32mis\u001b[0m \u001b[0;32mnot\u001b[0m \u001b[0;32mNone\u001b[0m\u001b[0;34m:\u001b[0m\u001b[0;34m\u001b[0m\u001b[0;34m\u001b[0m\u001b[0m\n\u001b[1;32m    135\u001b[0m                         \u001b[0;32mreturn\u001b[0m \u001b[0mf\u001b[0m\u001b[0;34m(\u001b[0m\u001b[0mself\u001b[0m\u001b[0;34m)\u001b[0m\u001b[0;34m\u001b[0m\u001b[0;34m\u001b[0m\u001b[0m\n\u001b[0;32m--> 136\u001b[0;31m             \u001b[0;32mreturn\u001b[0m \u001b[0mfunc\u001b[0m\u001b[0;34m(\u001b[0m\u001b[0mself\u001b[0m\u001b[0;34m,\u001b[0m \u001b[0mother\u001b[0m\u001b[0;34m)\u001b[0m\u001b[0;34m\u001b[0m\u001b[0;34m\u001b[0m\u001b[0m\n\u001b[0m\u001b[1;32m    137\u001b[0m         \u001b[0;32mreturn\u001b[0m \u001b[0mbinary_op_wrapper\u001b[0m\u001b[0;34m\u001b[0m\u001b[0;34m\u001b[0m\u001b[0m\n\u001b[1;32m    138\u001b[0m     \u001b[0;32mreturn\u001b[0m \u001b[0mpriority_decorator\u001b[0m\u001b[0;34m\u001b[0m\u001b[0;34m\u001b[0m\u001b[0m\n",
      "\u001b[0;32m~/miniconda3/lib/python3.9/site-packages/sympy/matrices/common.py\u001b[0m in \u001b[0;36m__mul__\u001b[0;34m(self, other)\u001b[0m\n\u001b[1;32m   2740\u001b[0m         \"\"\"\n\u001b[1;32m   2741\u001b[0m \u001b[0;34m\u001b[0m\u001b[0m\n\u001b[0;32m-> 2742\u001b[0;31m         \u001b[0;32mreturn\u001b[0m \u001b[0mself\u001b[0m\u001b[0;34m.\u001b[0m\u001b[0mmultiply\u001b[0m\u001b[0;34m(\u001b[0m\u001b[0mother\u001b[0m\u001b[0;34m)\u001b[0m\u001b[0;34m\u001b[0m\u001b[0;34m\u001b[0m\u001b[0m\n\u001b[0m\u001b[1;32m   2743\u001b[0m \u001b[0;34m\u001b[0m\u001b[0m\n\u001b[1;32m   2744\u001b[0m     \u001b[0;32mdef\u001b[0m \u001b[0mmultiply\u001b[0m\u001b[0;34m(\u001b[0m\u001b[0mself\u001b[0m\u001b[0;34m,\u001b[0m \u001b[0mother\u001b[0m\u001b[0;34m,\u001b[0m \u001b[0mdotprodsimp\u001b[0m\u001b[0;34m=\u001b[0m\u001b[0;32mNone\u001b[0m\u001b[0;34m)\u001b[0m\u001b[0;34m:\u001b[0m\u001b[0;34m\u001b[0m\u001b[0;34m\u001b[0m\u001b[0m\n",
      "\u001b[0;32m~/miniconda3/lib/python3.9/site-packages/sympy/matrices/common.py\u001b[0m in \u001b[0;36mmultiply\u001b[0;34m(self, other, dotprodsimp)\u001b[0m\n\u001b[1;32m   2762\u001b[0m              getattr(other, 'is_MatrixLike', True))):\n\u001b[1;32m   2763\u001b[0m             \u001b[0;32mif\u001b[0m \u001b[0mself\u001b[0m\u001b[0;34m.\u001b[0m\u001b[0mshape\u001b[0m\u001b[0;34m[\u001b[0m\u001b[0;36m1\u001b[0m\u001b[0;34m]\u001b[0m \u001b[0;34m!=\u001b[0m \u001b[0mother\u001b[0m\u001b[0;34m.\u001b[0m\u001b[0mshape\u001b[0m\u001b[0;34m[\u001b[0m\u001b[0;36m0\u001b[0m\u001b[0;34m]\u001b[0m\u001b[0;34m:\u001b[0m\u001b[0;34m\u001b[0m\u001b[0;34m\u001b[0m\u001b[0m\n\u001b[0;32m-> 2764\u001b[0;31m                 raise ShapeError(\"Matrix size mismatch: %s * %s.\" % (\n\u001b[0m\u001b[1;32m   2765\u001b[0m                     self.shape, other.shape))\n\u001b[1;32m   2766\u001b[0m \u001b[0;34m\u001b[0m\u001b[0m\n",
      "\u001b[0;31mShapeError\u001b[0m: Matrix size mismatch: (2, 1) * (2, 1)."
     ]
    }
   ],
   "source": [
    "Matrix([x, y+1])Matrix([x, y+1])"
   ]
  },
  {
   "cell_type": "code",
   "execution_count": 72,
   "id": "29febb4e-ddb7-49df-ac83-15cfa9548beb",
   "metadata": {},
   "outputs": [
    {
     "name": "stdout",
     "output_type": "stream",
     "text": [
      "Object `sympy.physics.paulialgebra` not found.\n"
     ]
    }
   ],
   "source": [
    "?sympy.physics.paulialgebra"
   ]
  },
  {
   "cell_type": "code",
   "execution_count": 74,
   "id": "bae6a148-4588-40da-9ef5-b4c90ed14329",
   "metadata": {},
   "outputs": [],
   "source": [
    "import sympy.physics.paulialgebra as pa"
   ]
  },
  {
   "cell_type": "code",
   "execution_count": 80,
   "id": "2f26cc34-33c9-40b7-b135-4256a8c2937b",
   "metadata": {},
   "outputs": [],
   "source": [
    "s1=pa.Pauli(1)"
   ]
  },
  {
   "cell_type": "code",
   "execution_count": 82,
   "id": "fb5330fb-d05e-4509-bfb5-32bc16e50ca3",
   "metadata": {},
   "outputs": [],
   "source": [
    "from sympy.physics.matrices import msigma, te"
   ]
  },
  {
   "cell_type": "code",
   "execution_count": 83,
   "id": "b3de5f36-49f6-40d5-95c2-11c8938edc02",
   "metadata": {},
   "outputs": [
    {
     "data": {
      "text/plain": [
       "\u001b[0;31mSignature:\u001b[0m \u001b[0mmsigma\u001b[0m\u001b[0;34m(\u001b[0m\u001b[0mi\u001b[0m\u001b[0;34m)\u001b[0m\u001b[0;34m\u001b[0m\u001b[0;34m\u001b[0m\u001b[0m\n",
       "\u001b[0;31mDocstring:\u001b[0m\n",
       "Returns a Pauli matrix `\\sigma_i` with ``i=1,2,3``.\n",
       "\n",
       "References\n",
       "==========\n",
       "\n",
       ".. [1] https://en.wikipedia.org/wiki/Pauli_matrices\n",
       "\n",
       "Examples\n",
       "========\n",
       "\n",
       ">>> from sympy.physics.matrices import msigma\n",
       ">>> msigma(1)\n",
       "Matrix([\n",
       "[0, 1],\n",
       "[1, 0]])\n",
       "\u001b[0;31mFile:\u001b[0m      ~/miniconda3/lib/python3.9/site-packages/sympy/physics/matrices.py\n",
       "\u001b[0;31mType:\u001b[0m      function\n"
      ]
     },
     "metadata": {},
     "output_type": "display_data"
    }
   ],
   "source": [
    "msigma?"
   ]
  },
  {
   "cell_type": "code",
   "execution_count": null,
   "id": "068d9b84-f379-4162-a131-940dd76fa388",
   "metadata": {},
   "outputs": [],
   "source": []
  }
 ],
 "metadata": {
  "kernelspec": {
   "display_name": "Python 3",
   "language": "python",
   "name": "python3"
  },
  "language_info": {
   "codemirror_mode": {
    "name": "ipython",
    "version": 3
   },
   "file_extension": ".py",
   "mimetype": "text/x-python",
   "name": "python",
   "nbconvert_exporter": "python",
   "pygments_lexer": "ipython3",
   "version": "3.9.1"
  }
 },
 "nbformat": 4,
 "nbformat_minor": 5
}
