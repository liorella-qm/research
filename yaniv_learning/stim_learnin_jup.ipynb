{
 "cells": [
  {
   "cell_type": "code",
   "execution_count": null,
   "metadata": {},
   "outputs": [],
   "source": [
    "import stim\n",
    "\n",
    "c=stim.Circuit(\"\"\"\n",
    "H 0 \n",
    "CNOT 0 1\n",
    "CNOT 0 2\n",
    "M 0 1 2 \n",
    "\"\"\")#hadamard on qubit 0 then #CNOT between 0 and 1 then #measure both\n",
    "\n"
   ]
  },
  {
   "cell_type": "code",
   "execution_count": null,
   "metadata": {},
   "outputs": [],
   "source": []
  }
 ],
 "metadata": {
  "kernelspec": {
   "display_name": "Python 3.10.6 64-bit",
   "language": "python",
   "name": "python3"
  },
  "language_info": {
   "name": "python",
   "version": "3.10.6"
  },
  "orig_nbformat": 4,
  "vscode": {
   "interpreter": {
    "hash": "752da229d95bb5ae00f1adfeade16aad58f4525783ec780ee11a69e073380a99"
   }
  }
 },
 "nbformat": 4,
 "nbformat_minor": 2
}
